{
 "cells": [
  {
   "cell_type": "markdown",
   "id": "apart-cemetery",
   "metadata": {},
   "source": [
    "# PCA - Esempi di applicazione"
   ]
  },
  {
   "cell_type": "code",
   "execution_count": null,
   "id": "formal-hampshire",
   "metadata": {},
   "outputs": [],
   "source": [
    "# ***** NOTA BENE! *****\n",
    "# perché %matplotlib widget funzioni, installare nell'ambiente virtuale \n",
    "# il pacchetto ipympl con il comando:\n",
    "# pip install ipympl\n",
    "#\n",
    "# ATTENZIONE: perché funzioni è necessario chiudere e rilanciare jupyter-lab\n",
    "#\n",
    "# STILE DI VISUALIZZAZIONE PLOT FATTI CON MATPLOTLIB\n",
    "# %matplotlib widget\n",
    "#\n",
    "#\n",
    "import pandas as pd\n",
    "import numpy as np\n",
    "from sklearn import datasets\n",
    "from sklearn.decomposition import PCA\n",
    "from sklearn.preprocessing import StandardScaler\n",
    "import matplotlib\n",
    "import matplotlib.pyplot as plt\n",
    "from mpl_toolkits.mplot3d import Axes3D\n",
    "from IPython.display import display"
   ]
  },
  {
   "cell_type": "markdown",
   "id": "minus-evolution",
   "metadata": {},
   "source": [
    "# Importazione di due datasets messi a disposizione da Scikit-Learn\n",
    "\n",
    "Guardare https://scikit-learn.org/stable/modules/classes.html?highlight=datasets#module-sklearn.datasets per maggiori informazioni sui datasets \"giocattolo\" messi a disposizione da Scikit-Learn.\n",
    "\n",
    "Noi lavoreremo con il dataset \"iris\" ed il dataset \"wine\".\n",
    "\n",
    "**Compito per lo studente:** guardare la documentazione di *datasets.load_iris* e *datasets.load_wine* (link sopra indicato) per capirne il contenuto."
   ]
  },
  {
   "cell_type": "code",
   "execution_count": null,
   "id": "inclusive-statement",
   "metadata": {},
   "outputs": [],
   "source": [
    "iris_dataset = datasets.load_iris(as_frame=True)\n",
    "wine_dataset = datasets.load_wine(as_frame=True)\n",
    "\n",
    "iris = pd.concat([iris_dataset['data'], iris_dataset['target']], axis=1)\n",
    "wine = pd.concat([wine_dataset['data'], wine_dataset['target']], axis=1)\n",
    "\n",
    "display(iris)\n",
    "print(iris_dataset['DESCR'])\n",
    "display(wine)\n",
    "print(wine_dataset['DESCR'])"
   ]
  },
  {
   "cell_type": "markdown",
   "id": "radical-oracle",
   "metadata": {},
   "source": [
    "### Osservazioni:\n",
    "1. Il dataset degli iris vede le feature dei fiori espresse tutte in cm e con range di valori tutti dello stesso ordine di grandezza\n",
    "2. Il dataset dei vini vede features di vario tipo, espresse con unità di misura differenti e range di valori di ordine di grandezza differenti.\n",
    "\n",
    "**Conseguenze:** \n",
    "1. Per gli iris possiamo usare la PCA \"normale\";\n",
    "2. Per i vini non possiamo usare la PCA \"normale\", altrimenti la maggior parte della varianza verrebbe \"mangiata\" dalla feature \"Proline\". Per questo dataset applicheremo quindi una standardizzazione dei dati, oltre che un centramento."
   ]
  },
  {
   "cell_type": "markdown",
   "id": "based-thumbnail",
   "metadata": {},
   "source": [
    "Mostriamo la percentuale di varianza spiegata dalle varie PC per i due dataset. Nel caso dei vini mostriamo sia il caso con che senza standardizzazione.\n",
    "\n",
    "**N.B.:** Per questa indagine preliminare, non ridurremo la dimensionalità del problema e considereremo quindi tutte le PC."
   ]
  },
  {
   "cell_type": "code",
   "execution_count": null,
   "id": "corrected-composer",
   "metadata": {},
   "outputs": [],
   "source": [
    "X_iris = iris.iloc[:, :-1]  # Escludo l'ultima colonna dei target\n",
    "X_wine = wine.iloc[:, :-1]  # Escludo l'ultima colonna dei target\n",
    "\n",
    "scaler_wine = StandardScaler()\n",
    "scaler_wine.fit(X_wine.values)\n",
    "\n",
    "X_wine_scaled = scaler_wine.transform(X_wine.values)\n",
    "\n",
    "pca_iris = PCA()\n",
    "pca_wine = PCA()\n",
    "pca_wine_nostd = PCA()\n",
    "\n",
    "pca_iris.fit(X_iris.values)\n",
    "pca_wine.fit(X_wine_scaled)\n",
    "pca_wine_nostd.fit(X_wine.values)\n",
    "\n",
    "# NOTE:\n",
    "# np.cumsum: funzione numpy che esegue la somma cumulative del vettore in argomento\n",
    "# np.insert: permette di inserire un valore in un vettore alla posizione specificata\n",
    "#\n",
    "# COMPITO PER LO STUDENTE: guardare la documentazione numpy per comprendere il \n",
    "# funzionamento delle funzioni sopra indicate e delle funzioni di matplotlib usate \n",
    "# nel seguito.\n",
    "\n",
    "plt.figure()\n",
    "plt.plot(np.insert(np.cumsum(pca_iris.explained_variance_ratio_), 0, 0))\n",
    "plt.title('IRIS')\n",
    "plt.xticks(ticks=np.arange(1, pca_iris.n_features_ + 1), \n",
    "           labels=[f'PC{i}' for i in range(1, pca_iris.n_features_ + 1)])\n",
    "plt.xlabel('Principal components')\n",
    "plt.ylabel('Cumulative explained variance')\n",
    "plt.grid()\n",
    "plt.show()\n",
    "\n",
    "plt.figure()\n",
    "plt.plot(np.insert(np.cumsum(pca_wine_nostd.explained_variance_ratio_), 0, 0))\n",
    "plt.title('WINE (NO STANDARDIZATION)')\n",
    "plt.xticks(ticks=np.arange(1, pca_wine_nostd.n_features_ + 1), \n",
    "           labels=[f'PC{i}' for i in range(1, pca_wine_nostd.n_features_ + 1)])\n",
    "plt.xlabel('Principal components')\n",
    "plt.ylabel('Cumulative explained variance')\n",
    "plt.grid()\n",
    "plt.show()\n",
    "\n",
    "plt.figure()\n",
    "plt.plot(np.insert(np.cumsum(pca_wine.explained_variance_ratio_), 0, 0))\n",
    "plt.title('WINE (WITH STANDARDIZATION)')\n",
    "plt.xticks(ticks=np.arange(1, pca_wine.n_features_ + 1), \n",
    "           labels=[f'PC{i}' for i in range(1, pca_wine.n_features_ + 1)])\n",
    "plt.xlabel('Principal components')\n",
    "plt.ylabel('Cumulative explained variance')\n",
    "plt.grid()\n",
    "plt.show()\n"
   ]
  },
  {
   "cell_type": "markdown",
   "id": "distinct-hearts",
   "metadata": {},
   "source": [
    "## Visualizzazioni"
   ]
  },
  {
   "cell_type": "markdown",
   "id": "expensive-paradise",
   "metadata": {},
   "source": [
    "Per le visualizzazioni, per esercizio sceglieremo m=2 PC per gli iris e m=3 PC per wine. Si osserva tuttavia che la varianza spiegata è molto alta per gli iris (quasi 100%) e \"accettabile\" per wine (quasi 70%)."
   ]
  },
  {
   "cell_type": "code",
   "execution_count": null,
   "id": "copyrighted-rings",
   "metadata": {},
   "outputs": [],
   "source": [
    "pca_iris_m = PCA(n_components=2)\n",
    "pca_wine_m = PCA(n_components=3)\n",
    "\n",
    "pca_iris_m.fit(X_iris.values)\n",
    "pca_wine_m.fit(X_wine_scaled)\n",
    "\n",
    "Y_iris_m = pca_iris_m.transform(X_iris.values)\n",
    "Y_wine_m = pca_wine_m.transform(X_wine_scaled)"
   ]
  },
  {
   "cell_type": "markdown",
   "id": "loose-vermont",
   "metadata": {},
   "source": [
    "### Score Graph"
   ]
  },
  {
   "cell_type": "code",
   "execution_count": null,
   "id": "flush-learning",
   "metadata": {},
   "outputs": [],
   "source": [
    "plt.figure(figsize=(8, 6))\n",
    "plt.scatter(Y_iris_m[:, 0], Y_iris_m[:, 1], c=iris['target'].values)\n",
    "plt.title('IRIS - SCORE GRAPH')\n",
    "plt.xlabel('PC1')\n",
    "plt.ylabel('PC2')\n",
    "plt.grid()\n",
    "plt.show()\n",
    "\n",
    "# NOTA: per i plot 3D, importare sempre Axes3D, cioè eseguire prima il \n",
    "# comando \"from mpl_toolkits.mplot3d import Axes3D\".\n",
    "# Per ulteriori informazioni su plot 3D, consultare la documentazione di Matplotlib\n",
    "\n",
    "fig_winescore = plt.figure()\n",
    "ax = fig_winescore.add_subplot(111, projection='3d')\n",
    "ax.scatter(Y_wine_m[:, 0], Y_wine_m[:, 1], Y_wine_m[:, 2], c=wine['target'].values)\n",
    "plt.title('WINE - SCORE GRAPH')\n",
    "ax.set_xlabel('PC1')\n",
    "ax.set_ylabel('PC2')\n",
    "ax.set_zlabel('PC3')\n",
    "plt.grid()\n",
    "plt.show()"
   ]
  },
  {
   "cell_type": "markdown",
   "id": "prompt-handle",
   "metadata": {},
   "source": [
    "### Loading Graph"
   ]
  },
  {
   "cell_type": "code",
   "execution_count": null,
   "id": "sharp-senior",
   "metadata": {},
   "outputs": [],
   "source": [
    "plt.figure()\n",
    "for i in range(pca_iris_m.n_features_):\n",
    "    plt.plot([0, pca_iris_m.components_[0, i]], [0, pca_iris_m.components_[1, i]], \n",
    "             label=X_iris.columns[i])\n",
    "plt.scatter(pca_iris_m.components_[0, :], pca_iris_m.components_[1, :], c='k')\n",
    "plt.legend()\n",
    "plt.title('IRIS - LOADING GRAPH')\n",
    "plt.xlabel('PC1')\n",
    "plt.ylabel('PC2')\n",
    "plt.grid()\n",
    "plt.show()\n",
    "\n",
    "# NOTA: per i plot 3D, importare sempre Axes3D, cioè eseguire prima il \n",
    "# comando \"from mpl_toolkits.mplot3d import Axes3D\".\n",
    "# Per ulteriori informazioni su plot 3D, consultare la documentazione di Matplotlib\n",
    "\n",
    "fig_winescore = plt.figure()\n",
    "ax = fig_winescore.add_subplot(111, projection='3d')\n",
    "for i in range(pca_wine_m.n_features_):\n",
    "    ax.plot([0, pca_wine_m.components_[0, i]], [0, pca_wine_m.components_[1, i]], \n",
    "            [0, pca_wine_m.components_[2, i]],\n",
    "             label=X_wine.columns[i])\n",
    "ax.scatter(pca_wine_m.components_[0, :], pca_wine_m.components_[1, :], pca_wine_m.components_[2, :], c='k')\n",
    "plt.legend(bbox_to_anchor=(1.05, 1), fontsize='xx-small')\n",
    "plt.title('WINE - LOADING GRAPH')\n",
    "ax.set_xlabel('PC1')\n",
    "ax.set_ylabel('PC2')\n",
    "ax.set_zlabel('PC3')\n",
    "plt.grid()\n",
    "plt.show()\n"
   ]
  },
  {
   "cell_type": "markdown",
   "id": "pretty-configuration",
   "metadata": {},
   "source": [
    "### Biplot\n",
    "\n",
    "**Compito per lo studente:** combinare i codici degli score e loading graphs per rappresentare i biplot."
   ]
  },
  {
   "cell_type": "code",
   "execution_count": null,
   "id": "decent-recipe",
   "metadata": {},
   "outputs": [],
   "source": [
    "# ..."
   ]
  },
  {
   "cell_type": "markdown",
   "id": "critical-speaker",
   "metadata": {},
   "source": [
    "## Interpretazione delle PC\n",
    "\n",
    "Vediamo il contributo delle features originali per le PC, aiutandoci con dei barplot."
   ]
  },
  {
   "cell_type": "code",
   "execution_count": null,
   "id": "american-prescription",
   "metadata": {},
   "outputs": [],
   "source": [
    "plt.figure(figsize=(8, 6))\n",
    "plt.bar(np.arange(pca_iris_m.n_features_), pca_iris_m.components_[0, :])\n",
    "plt.xticks(ticks=np.arange(pca_iris_m.n_features_), \n",
    "           labels=X_iris.columns.to_list(),\n",
    "           rotation=45)\n",
    "plt.title('IRIS - PC1')\n",
    "plt.grid()\n",
    "plt.show()\n",
    "\n",
    "plt.figure(figsize=(8, 6))\n",
    "plt.bar(np.arange(pca_iris_m.n_features_), pca_iris_m.components_[1, :])\n",
    "plt.xticks(ticks=np.arange(pca_iris_m.n_features_), \n",
    "           labels=X_iris.columns.to_list(),\n",
    "           rotation=45)\n",
    "plt.title('IRIS - PC2')\n",
    "plt.grid()\n",
    "plt.show()\n"
   ]
  },
  {
   "cell_type": "markdown",
   "id": "royal-teach",
   "metadata": {},
   "source": [
    "**Assegnare nomi alle PC:** guardando ai barplot, potremmo (*per esempio*) assegnare alla PC1 il nome di \"petal size and sepal length\", mentre alla PC2 il nome di \"sepal size\".\n",
    "\n",
    "**ESERCIZIO PER LO STUDENTE:** stampare i barplot delle PC corrispondenti al dataset wine e guardare se è possibile \"assegnare loro un nome\"."
   ]
  },
  {
   "cell_type": "code",
   "execution_count": null,
   "id": "valued-athletics",
   "metadata": {},
   "outputs": [],
   "source": [
    "# ..."
   ]
  }
 ],
 "metadata": {
  "kernelspec": {
   "display_name": "Python 3",
   "language": "python",
   "name": "python3"
  },
  "language_info": {
   "codemirror_mode": {
    "name": "ipython",
    "version": 3
   },
   "file_extension": ".py",
   "mimetype": "text/x-python",
   "name": "python",
   "nbconvert_exporter": "python",
   "pygments_lexer": "ipython3",
   "version": "3.8.6"
  }
 },
 "nbformat": 4,
 "nbformat_minor": 5
}
