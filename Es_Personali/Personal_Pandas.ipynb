{
 "cells": [
  {
   "cell_type": "markdown",
   "id": "static-character",
   "metadata": {},
   "source": [
    "# INTRODUZIONE"
   ]
  },
  {
   "cell_type": "code",
   "execution_count": 1,
   "id": "reverse-picture",
   "metadata": {},
   "outputs": [],
   "source": [
    "import pandas as pd\n",
    "import numpy as np\n",
    "import matplotlib"
   ]
  },
  {
   "cell_type": "markdown",
   "id": "educated-living",
   "metadata": {},
   "source": [
    "ARRAY di dati"
   ]
  },
  {
   "cell_type": "code",
   "execution_count": 2,
   "id": "committed-herald",
   "metadata": {},
   "outputs": [
    {
     "data": {
      "text/plain": [
       "array([0.27075297, 0.1060468 , 0.40141387, 0.88947148, 0.30597587,\n",
       "       0.56265969, 0.24416195, 0.5369297 , 0.53659432, 0.56340836])"
      ]
     },
     "execution_count": 2,
     "metadata": {},
     "output_type": "execute_result"
    }
   ],
   "source": [
    "x = np.random.rand(10)\n",
    "x"
   ]
  },
  {
   "cell_type": "code",
   "execution_count": 3,
   "id": "consolidated-telling",
   "metadata": {},
   "outputs": [
    {
     "data": {
      "text/plain": [
       "index1     0.270753\n",
       "index2     0.106047\n",
       "index3     0.401414\n",
       "index4     0.889471\n",
       "index5     0.305976\n",
       "index6     0.562660\n",
       "index7     0.244162\n",
       "index8     0.536930\n",
       "index9     0.536594\n",
       "index10    0.563408\n",
       "Name: my_series, dtype: float64"
      ]
     },
     "execution_count": 3,
     "metadata": {},
     "output_type": "execute_result"
    }
   ],
   "source": [
    "s1 = pd.Series(x, index=[f'index{i}' for  i in range(1, 11)], name ='my_series')\n",
    "s2 = pd.Series(x, name='my_series2')\n",
    "s1"
   ]
  },
  {
   "cell_type": "code",
   "execution_count": 4,
   "id": "entertaining-grass",
   "metadata": {},
   "outputs": [],
   "source": [
    "d = {'Age':30, 'Heigt':1.87}"
   ]
  }
 ],
 "metadata": {
  "kernelspec": {
   "display_name": "Python 3",
   "language": "python",
   "name": "python3"
  },
  "language_info": {
   "codemirror_mode": {
    "name": "ipython",
    "version": 3
   },
   "file_extension": ".py",
   "mimetype": "text/x-python",
   "name": "python",
   "nbconvert_exporter": "python",
   "pygments_lexer": "ipython3",
   "version": "3.8.0"
  }
 },
 "nbformat": 4,
 "nbformat_minor": 5
}
