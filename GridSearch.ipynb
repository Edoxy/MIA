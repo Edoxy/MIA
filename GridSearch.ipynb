{
 "cells": [
  {
   "cell_type": "markdown",
   "id": "extra-sensitivity",
   "metadata": {},
   "source": [
    "# Ricerca degli Iper-parametri\n",
    "\n",
    "Come visto nelle scorse esercitazioni, diversi valori/scelte di iper-parametri possono dare risultati notevolmente differenti. Diventa quindi importante determinare quali di essi costituiscano la miglior combinazione rispetto ai risultati desiderati per il modello di apprendimento."
   ]
  },
  {
   "cell_type": "markdown",
   "id": "human-feelings",
   "metadata": {},
   "source": [
    "## Richiamo: Training Set, Validation Set e Test Set\n",
    "\n",
    "Dato un dataset di coppie features-target \n",
    "$$\\mathcal{D} = \\{(\\boldsymbol{x}_1, \\boldsymbol{y}_1),\\ldots ,(\\boldsymbol{x}_D, \\boldsymbol{y}_D)\\}\\subset\\mathbb{R}^n\\times\\mathbb{R}^m\\,,$$\n",
    "\n",
    "per esempio per un problema di classificazione in $m$ classi, per addestrare un modello di Machine Learning (ML) generalmente si divide $\\mathcal{D}$ in un _training set_ $\\mathcal{T}$ ed un _test set_ $\\mathcal{P}$ tali che:\n",
    "1. le coppie $(\\boldsymbol{x}, \\boldsymbol{y})$ in $\\mathcal{T}$ vengono utilizzate per addestrare il modello ed \"insegnargli\" l'operazione desiderata (p.e., la classificazione rispetto $m$ classi);\n",
    "2. le coppie $(\\boldsymbol{x}, \\boldsymbol{y})$ in $\\mathcal{P}$ vengono utilizzate per _quantificare_ quanto bene un modello addestrato abbia imparato l'operazione desiderata, rispetto un'arbitraria funzione di valutazione.\n",
    "\n",
    "**RICORDA:** ovviamente $\\mathcal{P}$ deve essere utilizato _solo ed esclusivamente per la valutazione delle performance_! Ogni suo coinvolgimento nelle operazioni di addestramento renderebbe meno affidabili le performance misurate su di esso."
   ]
  },
  {
   "cell_type": "markdown",
   "id": "south-double",
   "metadata": {},
   "source": [
    "### Il Validation Set\n",
    "\n",
    "In molti casi, è tuttavia utile disporre di una previsione delle possibili performance su $\\mathcal{P}$ per un modello, per esempio quando:\n",
    "1. si deve eseguire una ricerca degli iper-parametri ottimali per il problema;\n",
    "2. si deve monitorare l'andamento di un addestramento caratterizzato da un processo iterativo;\n",
    "3. ecc.\n",
    "\n",
    "Nei casi sopra citati, risulta quindi utile dividere $\\mathcal{D}$ non in due, ma in tre sottoinsiemi: training set $\\mathcal{T}$, *validation set* $\\mathcal{V}$ e test set $\\mathcal{P}$. \n",
    "Mentre $\\mathcal{T}$ e $\\mathcal{P}$ svolgono i soliti ruoli, il validation set $\\mathcal{V}$ funge da \"pre-test set\", cioè viene utilizzato per svolgere le operazioni sopra citate, generalmente misurando le performance di modelli addestrati su $\\mathcal{T}$ per avere una (sotto)stima delle possibili performance \"finali\" su $\\mathcal{P}$.\n",
    "\n",
    "Concentriamoci sul punto (1) dell'elenco sovrastante e assumiamo di avere $K$ modelli $\\hat{f}_1,\\ldots ,\\hat{f}_K$ caratterizzati da $K$ diverse combinazioni di iper-parametri. In poche parole, il procedimento di ricerca del miglior modello rispetto $\\mathcal{T}$, $\\mathcal{V}$ e $\\mathcal{P}$ è il seguente:\n",
    "1. addestro ogni modello $\\hat{f}_1,\\ldots ,\\hat{f}_K$ su $\\mathcal{T}$;\n",
    "2. valuto su $\\mathcal{V}$ le performance dei modelli addestrati $\\hat{f}_1,\\ldots ,\\hat{f}_K$ ed indentifico il migliore;\n",
    "3. misuro le performance del modello migliore su $\\mathcal{P}$ per avere una stima delle sue performance in generale nel futuro.\n",
    "\n",
    "**NOTA BENE:** nella pratica, il validation set è sempre quello con cardinalità minore, cioè: $|\\mathcal{V}|<|\\mathcal{T}|,|\\mathcal{P}|$; per questo motivo le performance su $\\mathcal{V}$ sono generalmente una sottostima di quelle su $\\mathcal{P}$.\n",
    "\n",
    "**ATTENZIONE:** in letteratura spesso i termini _validation set_ e _test set_ hanno un significato molto \"fluido\". La definizione e l'utilizzo sopra descritti sono la versione più comune ed utilizzata in ambito ML; tuttavia, si posono incontrare alcune altre convenzioni:\n",
    "1. in ambito di ML, può capitare di sentir parlare solamente di training e validation set. In questo caso, il validation set svolge il ruolo di quello che noi abbiamo definito test set. Un'estensione di questa convenzione è il caso della $k$_-fold cross-validation_ (non la affronteremo in questa esercitazione);\n",
    "2. in ambito Deep Learning (DL) o reti neurali in generale, il modello viene addestrato rispetto $\\mathcal{T}$ e $\\mathcal{V}$ e valutato su $\\mathcal{P}$. In particolare, il validation set $\\mathcal{V}$ viene utilizzato per \"regolarizzare/gestire\" l'addestramento della rete. Per la ricerca di iper-parametri ottimali, si mettono quindi a confronto le performance su $\\mathcal{P}$ (e non su $\\mathcal{V}$ come indicato sopra). Quindi, se si desidera avere una valutazione oggettiva della rete neurale con la miglior combinazione di iper-parametri, si valutano le performance su un secondo test set $\\mathcal{P}'$ (una sorta di \"test set finale\"), ancora diverso da $\\mathcal{T}$, $\\mathcal{V}$ e $\\mathcal{P}$. Generalmente questa seconda valutazione non viene fatta poiché i dataset $\\mathcal{D}$ (ed i test set $\\mathcal{P}$) usati nel DL sono solitamente molto grandi e quindi le performance su $\\mathcal{P}$ si possono assumere essere praticamente uguali a quelle che si avrebbero su $\\mathcal{P}'$."
   ]
  },
  {
   "cell_type": "markdown",
   "id": "placed-conviction",
   "metadata": {},
   "source": [
    "## La Ricerca a Griglia\n",
    "\n",
    "Per cercare la miglior combinazione di iper-parametri per un modello, si procede generalmente con una _ricerca a griglia_ (in inglese e in letteratura: \"_grid search_\").\n",
    "\n",
    "Dato cioè un intervallo _discreto_ di valori $I_h$ per ogni iperparametro $p_h$, $h=1,\\ldots , H$, si considera la griglia di punti generata dal prodotto cartesiano degli intervalli, cioè:\n",
    "$$G = I_1 \\times \\cdots \\times I_H\\,.$$\n",
    "\n",
    "Abbiamo quindi che ogni punto di $G$ rappresenta una possibile combinazione di iper-parametri per il modello.\n",
    "Secondo quanto scritto sopra, si considerano quindi i $K=|G|$ modelli caratterizzati dalle $K$ combinazioni di iper-parametri differenti e si cerca quello con le migliori performance su $\\mathcal{V}$.\n",
    "\n",
    "**NOTA BENE:** nella pratica gli intervalli discreti $I_h$ sono raramente equispaziati, preferendo un campionamento casuale determinato da distribuzioni di probabilità."
   ]
  },
  {
   "cell_type": "markdown",
   "id": "stretch-secret",
   "metadata": {},
   "source": [
    "## Strumenti di Scikit-Learn per Iperparametri e Performance\n",
    "\n",
    "Per implementare la grid search, nell'esercitazione di oggi, utilizzare il seguente strumento:\n",
    "- GridSearcgCV: https://scikit-learn.org/stable/modules/generated/sklearn.model_selection.GridSearchCV.html\n",
    "- Esempio/guida: https://scikit-learn.org/stable/modules/grid_search.html\n",
    "\n",
    "**OSSERVAZIONE:** per utilizzi più \"elaborati\", che facciano uso di distribuzioni di probabilità, lo studente può guardare anche altri strumenti, per esempio RandomizedSearchCV (https://scikit-learn.org/stable/modules/generated/sklearn.model_selection.RandomizedSearchCV.html).\n",
    "\n",
    "Per implementare il calcolo della matrice di confusione, della precision, della recall e  dell' $F_1$-score, utilizzare i seguenti strumenti:\n",
    "- $F_1$-score: https://scikit-learn.org/stable/modules/generated/sklearn.metrics.f1_score.html\n",
    "- Precision: https://scikit-learn.org/stable/modules/generated/sklearn.metrics.precision_score.html\n",
    "- Recall: https://scikit-learn.org/stable/modules/generated/sklearn.metrics.recall_score.html\n",
    "- make_scorer (generare una delle funzioni sopra, fissando dei parametri): https://scikit-learn.org/stable/modules/generated/sklearn.metrics.make_scorer.html\n",
    "- scoring parameters: https://scikit-learn.org/stable/modules/model_evaluation.html#scoring-parameter\n",
    "- Confusion Matrix: https://scikit-learn.org/stable/modules/generated/sklearn.metrics.confusion_matrix.html\n",
    "\n",
    "\n",
    "## SVM Nonlineari e Classificazione Non Binaria\n",
    "\n",
    "La classe SVC di sklearn fa uso del metodo One-VS-One (OVO) per la classificazione non binaria (cioè $m>2$ classi).\n",
    "Il metodo consiste nell'addestrare $\\begin{pmatrix}m\\\\ 2\\end{pmatrix}$ SVM non lineari per ognuna possibile coppia di classi.\n",
    "\n",
    "Per la classificazione di $\\boldsymbol{x}$, viene predetta come classe $\\widehat{y}$ la classe che risulta essere predetta dalla maggioranza delle $\\begin{pmatrix}m\\\\ 2\\end{pmatrix}$ SVM."
   ]
  },
  {
   "cell_type": "markdown",
   "id": "academic-mobility",
   "metadata": {},
   "source": [
    "# Esercitazione: Riconoscimento Volti\n",
    "\n",
    "Nell'esercitazione di oggi, implementeremo una grid-search per SVM nonlineari per la classificazione dei volti già visti nell'esercitazione \"PCAeigenfaces\" e parte del dataset \"Labeled Faces in the Wild\" (LFW).\n",
    "\n",
    "**ATTENZIONE:** Per dettagli sul dataset utilizzato, guardare la vecchia esercitazione."
   ]
  },
  {
   "cell_type": "code",
   "execution_count": 1,
   "id": "important-biodiversity",
   "metadata": {},
   "outputs": [],
   "source": [
    "# ***** NOTA BENE! *****\n",
    "# perché %matplotlib widget funzioni, installare nell'ambiente virtuale \n",
    "# il pacchetto ipympl con il comando:\n",
    "# pip install ipympl\n",
    "#\n",
    "# ATTENZIONE: perché funzioni è necessario chiudere e rilanciare jupyter-lab\n",
    "#\n",
    "# STILE DI VISUALIZZAZIONE PLOT FATTI CON MATPLOTLIB\n",
    "%matplotlib widget\n",
    "#\n",
    "#\n",
    "import pandas as pd\n",
    "import numpy as np\n",
    "from sklearn import datasets\n",
    "import matplotlib\n",
    "import matplotlib.pyplot as plt\n",
    "from sklearn.svm import SVC\n",
    "from sklearn.model_selection import train_test_split\n",
    "from sklearn.model_selection import GridSearchCV\n",
    "from sklearn.metrics import f1_score, precision_score, recall_score, confusion_matrix, make_scorer\n",
    "from IPython.display import display\n",
    "\n",
    "# Il codice presente di seguito serve nel caso si verifichi un errore del tipo\n",
    "#\n",
    "# \"URLError: <urlopen error [SSL: CERTIFICATE_VERIFY_FAILED] certificate verify failed: unable to get local issuer certificate (_ssl.c:1124)>\"\n",
    "#\n",
    "# al momento di chiamare la funzione fetch_lfw_people di sklearn.datasets\n",
    "#\n",
    "# ATTENZIONE: il codice di seguito non è quindi sempre necessario; se non lo fosse, commentarlo pure.\n",
    "#\n",
    "\n",
    "import os, ssl\n",
    "\n",
    "if (not os.environ.get('PYTHONHTTPSVERIFY', '') and getattr(ssl, '_create_unverified_context', None)):\n",
    "    ssl._create_default_https_context = ssl._create_unverified_context"
   ]
  },
  {
   "cell_type": "markdown",
   "id": "vital-extension",
   "metadata": {},
   "source": [
    "## Importazione del Dataset e Creazione di Training, Validation e Test set\n",
    "\n",
    "Importiamo il dataset $\\mathcal{D}$ da scikit-learn e dividiamolo in $\\mathcal{T}$, $\\mathcal{V}$ e $\\mathcal{P}$. Utilizzare le seguenti percentuali:\n",
    "1. $|\\mathcal{T}| = 30\\% |\\mathcal{D}|$\n",
    "1. $|\\mathcal{V}| = 20\\% |\\mathcal{D}|$\n",
    "1. $|\\mathcal{P}| = 50\\% |\\mathcal{D}|$\n",
    "\n",
    "**ATTENZIONE:** visto che andremo ad usare le SVM, _NON_ sarà necessario trasformare le classi secondo la codifica del one-hot encoding.\n",
    "\n",
    "**ESERCIZIO:** completare il codice nella cella seguente."
   ]
  },
  {
   "cell_type": "code",
   "execution_count": 2,
   "id": "aerial-america",
   "metadata": {},
   "outputs": [],
   "source": [
    "lfw_people = datasets.fetch_lfw_people(min_faces_per_person=70, resize=0.4)\n",
    "\n",
    "face_data = lfw_people['data']\n",
    "face_images = lfw_people['images']\n",
    "face_tnames = lfw_people['target_names']\n",
    "face_targets = lfw_people['target']\n",
    "\n",
    "# Creare gli indici dei dati corrispondenti a training, validation e test set secondo le percentuali sopra indicate.\n",
    "# Utilizzare i seguenti nomi per le variabili:\n",
    "# Dataset: indices\n",
    "# Training: ind_train\n",
    "# Validation: ind_val\n",
    "# Test: ind_test\n",
    "\n",
    "random_state = 20210520\n",
    "test_p = 0.5\n",
    "val_p = 0.4\n",
    "indices = np.arange(face_data.shape[0])\n",
    "\n",
    "ind_train, ind_test = train_test_split(indices, test_size=test_p, random_state=random_state, shuffle=True)\n",
    "ind_train, ind_val = train_test_split(ind_train, test_size=val_p, random_state=random_state, shuffle=True)"
   ]
  },
  {
   "cell_type": "markdown",
   "id": "wired-russell",
   "metadata": {},
   "source": [
    "## Grid Search ed SVM\n",
    "\n",
    "**ESERCIZIO:** completare il codice nella cella seguente. Impostare una ricerca a griglia per gli iper-parametri delle SVM. In particolare, cercare tra i seguenti valori:\n",
    "1. $C\\in\\{2^i \\ | \\ i=-2, \\ldots , 2\\}$;\n",
    "2. $\\gamma \\in \\{\\frac{1}{i\\cdot n} \\ | \\ i= 0.5, 1, 1.5 \\}$, dove $n$ è il numero di feature del dataset;\n",
    "3. $\\mathrm{kernel} \\in \\{\\mathrm{RBF}, \\mathrm{sigmoid}, \\mathrm{polynomial}, \\mathrm{linear}\\}$."
   ]
  },
  {
   "cell_type": "code",
   "execution_count": 3,
   "id": "angry-blogger",
   "metadata": {},
   "outputs": [
    {
     "output_type": "execute_result",
     "data": {
      "text/plain": [
       "GridSearchCV(cv=<zip object at 0x149ad9730>,\n",
       "             estimator=SVC(class_weight='balanced'),\n",
       "             param_grid={'C': [0.25, 0.5, 1, 2, 4],\n",
       "                         'gamma': [0.001081081081081081, 0.0005405405405405405,\n",
       "                                   0.00036036036036036037],\n",
       "                         'kernel': ['rbf', 'poly', 'sigmoid', 'linear']},\n",
       "             return_train_score=True, scoring='f1_weighted')"
      ]
     },
     "metadata": {},
     "execution_count": 3
    }
   ],
   "source": [
    "n_features = face_data.shape[1]\n",
    "\n",
    "# Definizione delle liste di valori tra i quali \"scorrere\" per gli iper-parametri:\n",
    "C_list = [2 ** i for i in range(-2, 3)]\n",
    "gamma_list = [1 / (i * n_features) for i in np.arange(0.5, 1.75, 0.5)]\n",
    "ker_list = ['rbf', 'poly', 'sigmoid', 'linear']\n",
    "\n",
    "hparameters = {'kernel':ker_list, 'C':C_list, 'gamma':gamma_list}\n",
    "svm = SVC(class_weight='balanced')\n",
    "\n",
    "svm_gs = GridSearchCV(estimator=svm, \n",
    "                      param_grid=hparameters, \n",
    "                      scoring='f1_weighted',\n",
    "                      return_train_score=True,\n",
    "                      cv=zip([ind_train], [ind_val]))\n",
    "\n",
    "# OSSERVAZIONE: in alternativa a scoring='f1_weighted', si poteva scrivere equivalentemente\n",
    "# scoring=f1_scorer, dove f1_scorer è una variabile definita tramite make_scorer, cioè:\n",
    "# f1_scorer = make_scorer(f1_score, average='weighted')\n",
    "\n",
    "svm_gs.fit(face_data, face_targets)"
   ]
  },
  {
   "cell_type": "code",
   "execution_count": 4,
   "id": "congressional-breath",
   "metadata": {},
   "outputs": [
    {
     "output_type": "display_data",
     "data": {
      "text/plain": "    mean_fit_time  std_fit_time  mean_score_time  std_score_time param_C  \\\n59       0.060150           0.0         0.026031             0.0       4   \n27       0.059747           0.0         0.026202             0.0       1   \n19       0.059573           0.0         0.026057             0.0     0.5   \n31       0.060084           0.0         0.026715             0.0       1   \n35       0.060212           0.0         0.026153             0.0       1   \n15       0.060954           0.0         0.026221             0.0     0.5   \n39       0.059711           0.0         0.026125             0.0       2   \n43       0.060002           0.0         0.026196             0.0       2   \n11       0.061381           0.0         0.027320             0.0    0.25   \n7        0.061469           0.0         0.026623             0.0    0.25   \n51       0.059616           0.0         0.026203             0.0       4   \n3        0.062460           0.0         0.027164             0.0    0.25   \n55       0.059841           0.0         0.026120             0.0       4   \n47       0.059964           0.0         0.026097             0.0       2   \n23       0.059698           0.0         0.026858             0.0     0.5   \n45       0.062669           0.0         0.026337             0.0       2   \n25       0.062825           0.0         0.026152             0.0       1   \n41       0.062880           0.0         0.025925             0.0       2   \n49       0.062805           0.0         0.026008             0.0       4   \n37       0.066090           0.0         0.025987             0.0       2   \n53       0.063066           0.0         0.026547             0.0       4   \n33       0.065609           0.0         0.027729             0.0       1   \n57       0.063143           0.0         0.026097             0.0       4   \n29       0.062685           0.0         0.026586             0.0       1   \n17       0.063063           0.0         0.026221             0.0     0.5   \n21       0.062767           0.0         0.026039             0.0     0.5   \n1        0.065230           0.0         0.027240             0.0    0.25   \n13       0.063088           0.0         0.026177             0.0     0.5   \n9        0.063691           0.0         0.026073             0.0    0.25   \n5        0.064292           0.0         0.026494             0.0    0.25   \n40       0.112228           0.0         0.067551             0.0       2   \n48       0.112216           0.0         0.069154             0.0       4   \n36       0.110947           0.0         0.067981             0.0       2   \n44       0.112350           0.0         0.068702             0.0       2   \n56       0.113117           0.0         0.068256             0.0       4   \n52       0.113646           0.0         0.070232             0.0       4   \n50       0.107920           0.0         0.031954             0.0       4   \n6        0.108253           0.0         0.032474             0.0    0.25   \n4        0.110084           0.0         0.069902             0.0    0.25   \n54       0.107599           0.0         0.031553             0.0       4   \n8        0.111801           0.0         0.069061             0.0    0.25   \n2        0.108484           0.0         0.031637             0.0    0.25   \n46       0.108256           0.0         0.031854             0.0       2   \n24       0.109578           0.0         0.067383             0.0       1   \n12       0.109235           0.0         0.067611             0.0     0.5   \n42       0.108262           0.0         0.032611             0.0       2   \n22       0.107521           0.0         0.031665             0.0     0.5   \n38       0.107729           0.0         0.031521             0.0       2   \n14       0.109668           0.0         0.032104             0.0     0.5   \n16       0.109450           0.0         0.068161             0.0     0.5   \n34       0.107958           0.0         0.031622             0.0       1   \n32       0.111346           0.0         0.067822             0.0       1   \n18       0.109694           0.0         0.032313             0.0     0.5   \n30       0.107533           0.0         0.031557             0.0       1   \n58       0.108095           0.0         0.031937             0.0       4   \n28       0.110066           0.0         0.067345             0.0       1   \n20       0.110366           0.0         0.069155             0.0     0.5   \n26       0.107296           0.0         0.031558             0.0       1   \n10       0.108527           0.0         0.031781             0.0    0.25   \n0        0.118162           0.0         0.070048             0.0    0.25   \n\n   param_gamma param_kernel  \\\n59     0.00036       linear   \n27    0.001081       linear   \n19    0.000541       linear   \n31    0.000541       linear   \n35     0.00036       linear   \n15    0.001081       linear   \n39    0.001081       linear   \n43    0.000541       linear   \n11     0.00036       linear   \n7     0.000541       linear   \n51    0.001081       linear   \n3     0.001081       linear   \n55    0.000541       linear   \n47     0.00036       linear   \n23     0.00036       linear   \n45     0.00036         poly   \n25    0.001081         poly   \n41    0.000541         poly   \n49    0.001081         poly   \n37    0.001081         poly   \n53    0.000541         poly   \n33     0.00036         poly   \n57     0.00036         poly   \n29    0.000541         poly   \n17    0.000541         poly   \n21     0.00036         poly   \n1     0.001081         poly   \n13    0.001081         poly   \n9      0.00036         poly   \n5     0.000541         poly   \n40    0.000541          rbf   \n48    0.001081          rbf   \n36    0.001081          rbf   \n44     0.00036          rbf   \n56     0.00036          rbf   \n52    0.000541          rbf   \n50    0.001081      sigmoid   \n6     0.000541      sigmoid   \n4     0.000541          rbf   \n54    0.000541      sigmoid   \n8      0.00036          rbf   \n2     0.001081      sigmoid   \n46     0.00036      sigmoid   \n24    0.001081          rbf   \n12    0.001081          rbf   \n42    0.000541      sigmoid   \n22     0.00036      sigmoid   \n38    0.001081      sigmoid   \n14    0.001081      sigmoid   \n16    0.000541          rbf   \n34     0.00036      sigmoid   \n32     0.00036          rbf   \n18    0.000541      sigmoid   \n30    0.000541      sigmoid   \n58     0.00036      sigmoid   \n28    0.000541          rbf   \n20     0.00036          rbf   \n26    0.001081      sigmoid   \n10     0.00036      sigmoid   \n0     0.001081          rbf   \n\n                                               params  split0_test_score  \\\n59  {'C': 4, 'gamma': 0.00036036036036036037, 'ker...           0.811416   \n27  {'C': 1, 'gamma': 0.001081081081081081, 'kerne...           0.811416   \n19  {'C': 0.5, 'gamma': 0.0005405405405405405, 'ke...           0.811416   \n31  {'C': 1, 'gamma': 0.0005405405405405405, 'kern...           0.811416   \n35  {'C': 1, 'gamma': 0.00036036036036036037, 'ker...           0.811416   \n15  {'C': 0.5, 'gamma': 0.001081081081081081, 'ker...           0.811416   \n39  {'C': 2, 'gamma': 0.001081081081081081, 'kerne...           0.811416   \n43  {'C': 2, 'gamma': 0.0005405405405405405, 'kern...           0.811416   \n11  {'C': 0.25, 'gamma': 0.00036036036036036037, '...           0.811416   \n7   {'C': 0.25, 'gamma': 0.0005405405405405405, 'k...           0.811416   \n51  {'C': 4, 'gamma': 0.001081081081081081, 'kerne...           0.811416   \n3   {'C': 0.25, 'gamma': 0.001081081081081081, 'ke...           0.811416   \n55  {'C': 4, 'gamma': 0.0005405405405405405, 'kern...           0.811416   \n47  {'C': 2, 'gamma': 0.00036036036036036037, 'ker...           0.811416   \n23  {'C': 0.5, 'gamma': 0.00036036036036036037, 'k...           0.811416   \n45  {'C': 2, 'gamma': 0.00036036036036036037, 'ker...           0.785514   \n25  {'C': 1, 'gamma': 0.001081081081081081, 'kerne...           0.785514   \n41  {'C': 2, 'gamma': 0.0005405405405405405, 'kern...           0.785514   \n49  {'C': 4, 'gamma': 0.001081081081081081, 'kerne...           0.785514   \n37  {'C': 2, 'gamma': 0.001081081081081081, 'kerne...           0.785514   \n53  {'C': 4, 'gamma': 0.0005405405405405405, 'kern...           0.785514   \n33  {'C': 1, 'gamma': 0.00036036036036036037, 'ker...           0.785514   \n57  {'C': 4, 'gamma': 0.00036036036036036037, 'ker...           0.785514   \n29  {'C': 1, 'gamma': 0.0005405405405405405, 'kern...           0.785514   \n17  {'C': 0.5, 'gamma': 0.0005405405405405405, 'ke...           0.785514   \n21  {'C': 0.5, 'gamma': 0.00036036036036036037, 'k...           0.785514   \n1   {'C': 0.25, 'gamma': 0.001081081081081081, 'ke...           0.785514   \n13  {'C': 0.5, 'gamma': 0.001081081081081081, 'ker...           0.785514   \n9   {'C': 0.25, 'gamma': 0.00036036036036036037, '...           0.785514   \n5   {'C': 0.25, 'gamma': 0.0005405405405405405, 'k...           0.785514   \n40  {'C': 2, 'gamma': 0.0005405405405405405, 'kern...           0.247045   \n48  {'C': 4, 'gamma': 0.001081081081081081, 'kerne...           0.247045   \n36  {'C': 2, 'gamma': 0.001081081081081081, 'kerne...           0.247045   \n44  {'C': 2, 'gamma': 0.00036036036036036037, 'ker...           0.247045   \n56  {'C': 4, 'gamma': 0.00036036036036036037, 'ker...           0.247045   \n52  {'C': 4, 'gamma': 0.0005405405405405405, 'kern...           0.247045   \n50  {'C': 4, 'gamma': 0.001081081081081081, 'kerne...           0.056144   \n6   {'C': 0.25, 'gamma': 0.0005405405405405405, 'k...           0.056144   \n4   {'C': 0.25, 'gamma': 0.0005405405405405405, 'k...           0.056144   \n54  {'C': 4, 'gamma': 0.0005405405405405405, 'kern...           0.056144   \n8   {'C': 0.25, 'gamma': 0.00036036036036036037, '...           0.056144   \n2   {'C': 0.25, 'gamma': 0.001081081081081081, 'ke...           0.056144   \n46  {'C': 2, 'gamma': 0.00036036036036036037, 'ker...           0.056144   \n24  {'C': 1, 'gamma': 0.001081081081081081, 'kerne...           0.056144   \n12  {'C': 0.5, 'gamma': 0.001081081081081081, 'ker...           0.056144   \n42  {'C': 2, 'gamma': 0.0005405405405405405, 'kern...           0.056144   \n22  {'C': 0.5, 'gamma': 0.00036036036036036037, 'k...           0.056144   \n38  {'C': 2, 'gamma': 0.001081081081081081, 'kerne...           0.056144   \n14  {'C': 0.5, 'gamma': 0.001081081081081081, 'ker...           0.056144   \n16  {'C': 0.5, 'gamma': 0.0005405405405405405, 'ke...           0.056144   \n34  {'C': 1, 'gamma': 0.00036036036036036037, 'ker...           0.056144   \n32  {'C': 1, 'gamma': 0.00036036036036036037, 'ker...           0.056144   \n18  {'C': 0.5, 'gamma': 0.0005405405405405405, 'ke...           0.056144   \n30  {'C': 1, 'gamma': 0.0005405405405405405, 'kern...           0.056144   \n58  {'C': 4, 'gamma': 0.00036036036036036037, 'ker...           0.056144   \n28  {'C': 1, 'gamma': 0.0005405405405405405, 'kern...           0.056144   \n20  {'C': 0.5, 'gamma': 0.00036036036036036037, 'k...           0.056144   \n26  {'C': 1, 'gamma': 0.001081081081081081, 'kerne...           0.056144   \n10  {'C': 0.25, 'gamma': 0.00036036036036036037, '...           0.056144   \n0   {'C': 0.25, 'gamma': 0.001081081081081081, 'ke...           0.056144   \n\n    mean_test_score  std_test_score  rank_test_score  split0_train_score  \\\n59         0.811416             0.0                1            1.000000   \n27         0.811416             0.0                1            1.000000   \n19         0.811416             0.0                1            1.000000   \n31         0.811416             0.0                1            1.000000   \n35         0.811416             0.0                1            1.000000   \n15         0.811416             0.0                1            1.000000   \n39         0.811416             0.0                1            1.000000   \n43         0.811416             0.0                1            1.000000   \n11         0.811416             0.0                1            1.000000   \n7          0.811416             0.0                1            1.000000   \n51         0.811416             0.0                1            1.000000   \n3          0.811416             0.0                1            1.000000   \n55         0.811416             0.0                1            1.000000   \n47         0.811416             0.0                1            1.000000   \n23         0.811416             0.0                1            1.000000   \n45         0.785514             0.0               16            1.000000   \n25         0.785514             0.0               16            1.000000   \n41         0.785514             0.0               16            1.000000   \n49         0.785514             0.0               16            1.000000   \n37         0.785514             0.0               16            1.000000   \n53         0.785514             0.0               16            1.000000   \n33         0.785514             0.0               16            1.000000   \n57         0.785514             0.0               16            1.000000   \n29         0.785514             0.0               16            1.000000   \n17         0.785514             0.0               16            1.000000   \n21         0.785514             0.0               16            1.000000   \n1          0.785514             0.0               16            1.000000   \n13         0.785514             0.0               16            1.000000   \n9          0.785514             0.0               16            1.000000   \n5          0.785514             0.0               16            1.000000   \n40         0.247045             0.0               31            1.000000   \n48         0.247045             0.0               31            1.000000   \n36         0.247045             0.0               31            1.000000   \n44         0.247045             0.0               31            1.000000   \n56         0.247045             0.0               31            1.000000   \n52         0.247045             0.0               31            1.000000   \n50         0.056144             0.0               37            0.055677   \n6          0.056144             0.0               37            0.055677   \n4          0.056144             0.0               37            0.055677   \n54         0.056144             0.0               37            0.055677   \n8          0.056144             0.0               37            0.055677   \n2          0.056144             0.0               37            0.055677   \n46         0.056144             0.0               37            0.055677   \n24         0.056144             0.0               37            1.000000   \n12         0.056144             0.0               37            0.366765   \n42         0.056144             0.0               37            0.055677   \n22         0.056144             0.0               37            0.055677   \n38         0.056144             0.0               37            0.055677   \n14         0.056144             0.0               37            0.055677   \n16         0.056144             0.0               37            0.366765   \n34         0.056144             0.0               37            0.055677   \n32         0.056144             0.0               37            1.000000   \n18         0.056144             0.0               37            0.055677   \n30         0.056144             0.0               37            0.055677   \n58         0.056144             0.0               37            0.055677   \n28         0.056144             0.0               37            1.000000   \n20         0.056144             0.0               37            0.366765   \n26         0.056144             0.0               37            0.055677   \n10         0.056144             0.0               37            0.055677   \n0          0.056144             0.0               37            0.055677   \n\n    mean_train_score  std_train_score  \n59          1.000000              0.0  \n27          1.000000              0.0  \n19          1.000000              0.0  \n31          1.000000              0.0  \n35          1.000000              0.0  \n15          1.000000              0.0  \n39          1.000000              0.0  \n43          1.000000              0.0  \n11          1.000000              0.0  \n7           1.000000              0.0  \n51          1.000000              0.0  \n3           1.000000              0.0  \n55          1.000000              0.0  \n47          1.000000              0.0  \n23          1.000000              0.0  \n45          1.000000              0.0  \n25          1.000000              0.0  \n41          1.000000              0.0  \n49          1.000000              0.0  \n37          1.000000              0.0  \n53          1.000000              0.0  \n33          1.000000              0.0  \n57          1.000000              0.0  \n29          1.000000              0.0  \n17          1.000000              0.0  \n21          1.000000              0.0  \n1           1.000000              0.0  \n13          1.000000              0.0  \n9           1.000000              0.0  \n5           1.000000              0.0  \n40          1.000000              0.0  \n48          1.000000              0.0  \n36          1.000000              0.0  \n44          1.000000              0.0  \n56          1.000000              0.0  \n52          1.000000              0.0  \n50          0.055677              0.0  \n6           0.055677              0.0  \n4           0.055677              0.0  \n54          0.055677              0.0  \n8           0.055677              0.0  \n2           0.055677              0.0  \n46          0.055677              0.0  \n24          1.000000              0.0  \n12          0.366765              0.0  \n42          0.055677              0.0  \n22          0.055677              0.0  \n38          0.055677              0.0  \n14          0.055677              0.0  \n16          0.366765              0.0  \n34          0.055677              0.0  \n32          1.000000              0.0  \n18          0.055677              0.0  \n30          0.055677              0.0  \n58          0.055677              0.0  \n28          1.000000              0.0  \n20          0.366765              0.0  \n26          0.055677              0.0  \n10          0.055677              0.0  \n0           0.055677              0.0  ",
      "text/html": "<div>\n<style scoped>\n    .dataframe tbody tr th:only-of-type {\n        vertical-align: middle;\n    }\n\n    .dataframe tbody tr th {\n        vertical-align: top;\n    }\n\n    .dataframe thead th {\n        text-align: right;\n    }\n</style>\n<table border=\"1\" class=\"dataframe\">\n  <thead>\n    <tr style=\"text-align: right;\">\n      <th></th>\n      <th>mean_fit_time</th>\n      <th>std_fit_time</th>\n      <th>mean_score_time</th>\n      <th>std_score_time</th>\n      <th>param_C</th>\n      <th>param_gamma</th>\n      <th>param_kernel</th>\n      <th>params</th>\n      <th>split0_test_score</th>\n      <th>mean_test_score</th>\n      <th>std_test_score</th>\n      <th>rank_test_score</th>\n      <th>split0_train_score</th>\n      <th>mean_train_score</th>\n      <th>std_train_score</th>\n    </tr>\n  </thead>\n  <tbody>\n    <tr>\n      <th>59</th>\n      <td>0.060150</td>\n      <td>0.0</td>\n      <td>0.026031</td>\n      <td>0.0</td>\n      <td>4</td>\n      <td>0.00036</td>\n      <td>linear</td>\n      <td>{'C': 4, 'gamma': 0.00036036036036036037, 'ker...</td>\n      <td>0.811416</td>\n      <td>0.811416</td>\n      <td>0.0</td>\n      <td>1</td>\n      <td>1.000000</td>\n      <td>1.000000</td>\n      <td>0.0</td>\n    </tr>\n    <tr>\n      <th>27</th>\n      <td>0.059747</td>\n      <td>0.0</td>\n      <td>0.026202</td>\n      <td>0.0</td>\n      <td>1</td>\n      <td>0.001081</td>\n      <td>linear</td>\n      <td>{'C': 1, 'gamma': 0.001081081081081081, 'kerne...</td>\n      <td>0.811416</td>\n      <td>0.811416</td>\n      <td>0.0</td>\n      <td>1</td>\n      <td>1.000000</td>\n      <td>1.000000</td>\n      <td>0.0</td>\n    </tr>\n    <tr>\n      <th>19</th>\n      <td>0.059573</td>\n      <td>0.0</td>\n      <td>0.026057</td>\n      <td>0.0</td>\n      <td>0.5</td>\n      <td>0.000541</td>\n      <td>linear</td>\n      <td>{'C': 0.5, 'gamma': 0.0005405405405405405, 'ke...</td>\n      <td>0.811416</td>\n      <td>0.811416</td>\n      <td>0.0</td>\n      <td>1</td>\n      <td>1.000000</td>\n      <td>1.000000</td>\n      <td>0.0</td>\n    </tr>\n    <tr>\n      <th>31</th>\n      <td>0.060084</td>\n      <td>0.0</td>\n      <td>0.026715</td>\n      <td>0.0</td>\n      <td>1</td>\n      <td>0.000541</td>\n      <td>linear</td>\n      <td>{'C': 1, 'gamma': 0.0005405405405405405, 'kern...</td>\n      <td>0.811416</td>\n      <td>0.811416</td>\n      <td>0.0</td>\n      <td>1</td>\n      <td>1.000000</td>\n      <td>1.000000</td>\n      <td>0.0</td>\n    </tr>\n    <tr>\n      <th>35</th>\n      <td>0.060212</td>\n      <td>0.0</td>\n      <td>0.026153</td>\n      <td>0.0</td>\n      <td>1</td>\n      <td>0.00036</td>\n      <td>linear</td>\n      <td>{'C': 1, 'gamma': 0.00036036036036036037, 'ker...</td>\n      <td>0.811416</td>\n      <td>0.811416</td>\n      <td>0.0</td>\n      <td>1</td>\n      <td>1.000000</td>\n      <td>1.000000</td>\n      <td>0.0</td>\n    </tr>\n    <tr>\n      <th>15</th>\n      <td>0.060954</td>\n      <td>0.0</td>\n      <td>0.026221</td>\n      <td>0.0</td>\n      <td>0.5</td>\n      <td>0.001081</td>\n      <td>linear</td>\n      <td>{'C': 0.5, 'gamma': 0.001081081081081081, 'ker...</td>\n      <td>0.811416</td>\n      <td>0.811416</td>\n      <td>0.0</td>\n      <td>1</td>\n      <td>1.000000</td>\n      <td>1.000000</td>\n      <td>0.0</td>\n    </tr>\n    <tr>\n      <th>39</th>\n      <td>0.059711</td>\n      <td>0.0</td>\n      <td>0.026125</td>\n      <td>0.0</td>\n      <td>2</td>\n      <td>0.001081</td>\n      <td>linear</td>\n      <td>{'C': 2, 'gamma': 0.001081081081081081, 'kerne...</td>\n      <td>0.811416</td>\n      <td>0.811416</td>\n      <td>0.0</td>\n      <td>1</td>\n      <td>1.000000</td>\n      <td>1.000000</td>\n      <td>0.0</td>\n    </tr>\n    <tr>\n      <th>43</th>\n      <td>0.060002</td>\n      <td>0.0</td>\n      <td>0.026196</td>\n      <td>0.0</td>\n      <td>2</td>\n      <td>0.000541</td>\n      <td>linear</td>\n      <td>{'C': 2, 'gamma': 0.0005405405405405405, 'kern...</td>\n      <td>0.811416</td>\n      <td>0.811416</td>\n      <td>0.0</td>\n      <td>1</td>\n      <td>1.000000</td>\n      <td>1.000000</td>\n      <td>0.0</td>\n    </tr>\n    <tr>\n      <th>11</th>\n      <td>0.061381</td>\n      <td>0.0</td>\n      <td>0.027320</td>\n      <td>0.0</td>\n      <td>0.25</td>\n      <td>0.00036</td>\n      <td>linear</td>\n      <td>{'C': 0.25, 'gamma': 0.00036036036036036037, '...</td>\n      <td>0.811416</td>\n      <td>0.811416</td>\n      <td>0.0</td>\n      <td>1</td>\n      <td>1.000000</td>\n      <td>1.000000</td>\n      <td>0.0</td>\n    </tr>\n    <tr>\n      <th>7</th>\n      <td>0.061469</td>\n      <td>0.0</td>\n      <td>0.026623</td>\n      <td>0.0</td>\n      <td>0.25</td>\n      <td>0.000541</td>\n      <td>linear</td>\n      <td>{'C': 0.25, 'gamma': 0.0005405405405405405, 'k...</td>\n      <td>0.811416</td>\n      <td>0.811416</td>\n      <td>0.0</td>\n      <td>1</td>\n      <td>1.000000</td>\n      <td>1.000000</td>\n      <td>0.0</td>\n    </tr>\n    <tr>\n      <th>51</th>\n      <td>0.059616</td>\n      <td>0.0</td>\n      <td>0.026203</td>\n      <td>0.0</td>\n      <td>4</td>\n      <td>0.001081</td>\n      <td>linear</td>\n      <td>{'C': 4, 'gamma': 0.001081081081081081, 'kerne...</td>\n      <td>0.811416</td>\n      <td>0.811416</td>\n      <td>0.0</td>\n      <td>1</td>\n      <td>1.000000</td>\n      <td>1.000000</td>\n      <td>0.0</td>\n    </tr>\n    <tr>\n      <th>3</th>\n      <td>0.062460</td>\n      <td>0.0</td>\n      <td>0.027164</td>\n      <td>0.0</td>\n      <td>0.25</td>\n      <td>0.001081</td>\n      <td>linear</td>\n      <td>{'C': 0.25, 'gamma': 0.001081081081081081, 'ke...</td>\n      <td>0.811416</td>\n      <td>0.811416</td>\n      <td>0.0</td>\n      <td>1</td>\n      <td>1.000000</td>\n      <td>1.000000</td>\n      <td>0.0</td>\n    </tr>\n    <tr>\n      <th>55</th>\n      <td>0.059841</td>\n      <td>0.0</td>\n      <td>0.026120</td>\n      <td>0.0</td>\n      <td>4</td>\n      <td>0.000541</td>\n      <td>linear</td>\n      <td>{'C': 4, 'gamma': 0.0005405405405405405, 'kern...</td>\n      <td>0.811416</td>\n      <td>0.811416</td>\n      <td>0.0</td>\n      <td>1</td>\n      <td>1.000000</td>\n      <td>1.000000</td>\n      <td>0.0</td>\n    </tr>\n    <tr>\n      <th>47</th>\n      <td>0.059964</td>\n      <td>0.0</td>\n      <td>0.026097</td>\n      <td>0.0</td>\n      <td>2</td>\n      <td>0.00036</td>\n      <td>linear</td>\n      <td>{'C': 2, 'gamma': 0.00036036036036036037, 'ker...</td>\n      <td>0.811416</td>\n      <td>0.811416</td>\n      <td>0.0</td>\n      <td>1</td>\n      <td>1.000000</td>\n      <td>1.000000</td>\n      <td>0.0</td>\n    </tr>\n    <tr>\n      <th>23</th>\n      <td>0.059698</td>\n      <td>0.0</td>\n      <td>0.026858</td>\n      <td>0.0</td>\n      <td>0.5</td>\n      <td>0.00036</td>\n      <td>linear</td>\n      <td>{'C': 0.5, 'gamma': 0.00036036036036036037, 'k...</td>\n      <td>0.811416</td>\n      <td>0.811416</td>\n      <td>0.0</td>\n      <td>1</td>\n      <td>1.000000</td>\n      <td>1.000000</td>\n      <td>0.0</td>\n    </tr>\n    <tr>\n      <th>45</th>\n      <td>0.062669</td>\n      <td>0.0</td>\n      <td>0.026337</td>\n      <td>0.0</td>\n      <td>2</td>\n      <td>0.00036</td>\n      <td>poly</td>\n      <td>{'C': 2, 'gamma': 0.00036036036036036037, 'ker...</td>\n      <td>0.785514</td>\n      <td>0.785514</td>\n      <td>0.0</td>\n      <td>16</td>\n      <td>1.000000</td>\n      <td>1.000000</td>\n      <td>0.0</td>\n    </tr>\n    <tr>\n      <th>25</th>\n      <td>0.062825</td>\n      <td>0.0</td>\n      <td>0.026152</td>\n      <td>0.0</td>\n      <td>1</td>\n      <td>0.001081</td>\n      <td>poly</td>\n      <td>{'C': 1, 'gamma': 0.001081081081081081, 'kerne...</td>\n      <td>0.785514</td>\n      <td>0.785514</td>\n      <td>0.0</td>\n      <td>16</td>\n      <td>1.000000</td>\n      <td>1.000000</td>\n      <td>0.0</td>\n    </tr>\n    <tr>\n      <th>41</th>\n      <td>0.062880</td>\n      <td>0.0</td>\n      <td>0.025925</td>\n      <td>0.0</td>\n      <td>2</td>\n      <td>0.000541</td>\n      <td>poly</td>\n      <td>{'C': 2, 'gamma': 0.0005405405405405405, 'kern...</td>\n      <td>0.785514</td>\n      <td>0.785514</td>\n      <td>0.0</td>\n      <td>16</td>\n      <td>1.000000</td>\n      <td>1.000000</td>\n      <td>0.0</td>\n    </tr>\n    <tr>\n      <th>49</th>\n      <td>0.062805</td>\n      <td>0.0</td>\n      <td>0.026008</td>\n      <td>0.0</td>\n      <td>4</td>\n      <td>0.001081</td>\n      <td>poly</td>\n      <td>{'C': 4, 'gamma': 0.001081081081081081, 'kerne...</td>\n      <td>0.785514</td>\n      <td>0.785514</td>\n      <td>0.0</td>\n      <td>16</td>\n      <td>1.000000</td>\n      <td>1.000000</td>\n      <td>0.0</td>\n    </tr>\n    <tr>\n      <th>37</th>\n      <td>0.066090</td>\n      <td>0.0</td>\n      <td>0.025987</td>\n      <td>0.0</td>\n      <td>2</td>\n      <td>0.001081</td>\n      <td>poly</td>\n      <td>{'C': 2, 'gamma': 0.001081081081081081, 'kerne...</td>\n      <td>0.785514</td>\n      <td>0.785514</td>\n      <td>0.0</td>\n      <td>16</td>\n      <td>1.000000</td>\n      <td>1.000000</td>\n      <td>0.0</td>\n    </tr>\n    <tr>\n      <th>53</th>\n      <td>0.063066</td>\n      <td>0.0</td>\n      <td>0.026547</td>\n      <td>0.0</td>\n      <td>4</td>\n      <td>0.000541</td>\n      <td>poly</td>\n      <td>{'C': 4, 'gamma': 0.0005405405405405405, 'kern...</td>\n      <td>0.785514</td>\n      <td>0.785514</td>\n      <td>0.0</td>\n      <td>16</td>\n      <td>1.000000</td>\n      <td>1.000000</td>\n      <td>0.0</td>\n    </tr>\n    <tr>\n      <th>33</th>\n      <td>0.065609</td>\n      <td>0.0</td>\n      <td>0.027729</td>\n      <td>0.0</td>\n      <td>1</td>\n      <td>0.00036</td>\n      <td>poly</td>\n      <td>{'C': 1, 'gamma': 0.00036036036036036037, 'ker...</td>\n      <td>0.785514</td>\n      <td>0.785514</td>\n      <td>0.0</td>\n      <td>16</td>\n      <td>1.000000</td>\n      <td>1.000000</td>\n      <td>0.0</td>\n    </tr>\n    <tr>\n      <th>57</th>\n      <td>0.063143</td>\n      <td>0.0</td>\n      <td>0.026097</td>\n      <td>0.0</td>\n      <td>4</td>\n      <td>0.00036</td>\n      <td>poly</td>\n      <td>{'C': 4, 'gamma': 0.00036036036036036037, 'ker...</td>\n      <td>0.785514</td>\n      <td>0.785514</td>\n      <td>0.0</td>\n      <td>16</td>\n      <td>1.000000</td>\n      <td>1.000000</td>\n      <td>0.0</td>\n    </tr>\n    <tr>\n      <th>29</th>\n      <td>0.062685</td>\n      <td>0.0</td>\n      <td>0.026586</td>\n      <td>0.0</td>\n      <td>1</td>\n      <td>0.000541</td>\n      <td>poly</td>\n      <td>{'C': 1, 'gamma': 0.0005405405405405405, 'kern...</td>\n      <td>0.785514</td>\n      <td>0.785514</td>\n      <td>0.0</td>\n      <td>16</td>\n      <td>1.000000</td>\n      <td>1.000000</td>\n      <td>0.0</td>\n    </tr>\n    <tr>\n      <th>17</th>\n      <td>0.063063</td>\n      <td>0.0</td>\n      <td>0.026221</td>\n      <td>0.0</td>\n      <td>0.5</td>\n      <td>0.000541</td>\n      <td>poly</td>\n      <td>{'C': 0.5, 'gamma': 0.0005405405405405405, 'ke...</td>\n      <td>0.785514</td>\n      <td>0.785514</td>\n      <td>0.0</td>\n      <td>16</td>\n      <td>1.000000</td>\n      <td>1.000000</td>\n      <td>0.0</td>\n    </tr>\n    <tr>\n      <th>21</th>\n      <td>0.062767</td>\n      <td>0.0</td>\n      <td>0.026039</td>\n      <td>0.0</td>\n      <td>0.5</td>\n      <td>0.00036</td>\n      <td>poly</td>\n      <td>{'C': 0.5, 'gamma': 0.00036036036036036037, 'k...</td>\n      <td>0.785514</td>\n      <td>0.785514</td>\n      <td>0.0</td>\n      <td>16</td>\n      <td>1.000000</td>\n      <td>1.000000</td>\n      <td>0.0</td>\n    </tr>\n    <tr>\n      <th>1</th>\n      <td>0.065230</td>\n      <td>0.0</td>\n      <td>0.027240</td>\n      <td>0.0</td>\n      <td>0.25</td>\n      <td>0.001081</td>\n      <td>poly</td>\n      <td>{'C': 0.25, 'gamma': 0.001081081081081081, 'ke...</td>\n      <td>0.785514</td>\n      <td>0.785514</td>\n      <td>0.0</td>\n      <td>16</td>\n      <td>1.000000</td>\n      <td>1.000000</td>\n      <td>0.0</td>\n    </tr>\n    <tr>\n      <th>13</th>\n      <td>0.063088</td>\n      <td>0.0</td>\n      <td>0.026177</td>\n      <td>0.0</td>\n      <td>0.5</td>\n      <td>0.001081</td>\n      <td>poly</td>\n      <td>{'C': 0.5, 'gamma': 0.001081081081081081, 'ker...</td>\n      <td>0.785514</td>\n      <td>0.785514</td>\n      <td>0.0</td>\n      <td>16</td>\n      <td>1.000000</td>\n      <td>1.000000</td>\n      <td>0.0</td>\n    </tr>\n    <tr>\n      <th>9</th>\n      <td>0.063691</td>\n      <td>0.0</td>\n      <td>0.026073</td>\n      <td>0.0</td>\n      <td>0.25</td>\n      <td>0.00036</td>\n      <td>poly</td>\n      <td>{'C': 0.25, 'gamma': 0.00036036036036036037, '...</td>\n      <td>0.785514</td>\n      <td>0.785514</td>\n      <td>0.0</td>\n      <td>16</td>\n      <td>1.000000</td>\n      <td>1.000000</td>\n      <td>0.0</td>\n    </tr>\n    <tr>\n      <th>5</th>\n      <td>0.064292</td>\n      <td>0.0</td>\n      <td>0.026494</td>\n      <td>0.0</td>\n      <td>0.25</td>\n      <td>0.000541</td>\n      <td>poly</td>\n      <td>{'C': 0.25, 'gamma': 0.0005405405405405405, 'k...</td>\n      <td>0.785514</td>\n      <td>0.785514</td>\n      <td>0.0</td>\n      <td>16</td>\n      <td>1.000000</td>\n      <td>1.000000</td>\n      <td>0.0</td>\n    </tr>\n    <tr>\n      <th>40</th>\n      <td>0.112228</td>\n      <td>0.0</td>\n      <td>0.067551</td>\n      <td>0.0</td>\n      <td>2</td>\n      <td>0.000541</td>\n      <td>rbf</td>\n      <td>{'C': 2, 'gamma': 0.0005405405405405405, 'kern...</td>\n      <td>0.247045</td>\n      <td>0.247045</td>\n      <td>0.0</td>\n      <td>31</td>\n      <td>1.000000</td>\n      <td>1.000000</td>\n      <td>0.0</td>\n    </tr>\n    <tr>\n      <th>48</th>\n      <td>0.112216</td>\n      <td>0.0</td>\n      <td>0.069154</td>\n      <td>0.0</td>\n      <td>4</td>\n      <td>0.001081</td>\n      <td>rbf</td>\n      <td>{'C': 4, 'gamma': 0.001081081081081081, 'kerne...</td>\n      <td>0.247045</td>\n      <td>0.247045</td>\n      <td>0.0</td>\n      <td>31</td>\n      <td>1.000000</td>\n      <td>1.000000</td>\n      <td>0.0</td>\n    </tr>\n    <tr>\n      <th>36</th>\n      <td>0.110947</td>\n      <td>0.0</td>\n      <td>0.067981</td>\n      <td>0.0</td>\n      <td>2</td>\n      <td>0.001081</td>\n      <td>rbf</td>\n      <td>{'C': 2, 'gamma': 0.001081081081081081, 'kerne...</td>\n      <td>0.247045</td>\n      <td>0.247045</td>\n      <td>0.0</td>\n      <td>31</td>\n      <td>1.000000</td>\n      <td>1.000000</td>\n      <td>0.0</td>\n    </tr>\n    <tr>\n      <th>44</th>\n      <td>0.112350</td>\n      <td>0.0</td>\n      <td>0.068702</td>\n      <td>0.0</td>\n      <td>2</td>\n      <td>0.00036</td>\n      <td>rbf</td>\n      <td>{'C': 2, 'gamma': 0.00036036036036036037, 'ker...</td>\n      <td>0.247045</td>\n      <td>0.247045</td>\n      <td>0.0</td>\n      <td>31</td>\n      <td>1.000000</td>\n      <td>1.000000</td>\n      <td>0.0</td>\n    </tr>\n    <tr>\n      <th>56</th>\n      <td>0.113117</td>\n      <td>0.0</td>\n      <td>0.068256</td>\n      <td>0.0</td>\n      <td>4</td>\n      <td>0.00036</td>\n      <td>rbf</td>\n      <td>{'C': 4, 'gamma': 0.00036036036036036037, 'ker...</td>\n      <td>0.247045</td>\n      <td>0.247045</td>\n      <td>0.0</td>\n      <td>31</td>\n      <td>1.000000</td>\n      <td>1.000000</td>\n      <td>0.0</td>\n    </tr>\n    <tr>\n      <th>52</th>\n      <td>0.113646</td>\n      <td>0.0</td>\n      <td>0.070232</td>\n      <td>0.0</td>\n      <td>4</td>\n      <td>0.000541</td>\n      <td>rbf</td>\n      <td>{'C': 4, 'gamma': 0.0005405405405405405, 'kern...</td>\n      <td>0.247045</td>\n      <td>0.247045</td>\n      <td>0.0</td>\n      <td>31</td>\n      <td>1.000000</td>\n      <td>1.000000</td>\n      <td>0.0</td>\n    </tr>\n    <tr>\n      <th>50</th>\n      <td>0.107920</td>\n      <td>0.0</td>\n      <td>0.031954</td>\n      <td>0.0</td>\n      <td>4</td>\n      <td>0.001081</td>\n      <td>sigmoid</td>\n      <td>{'C': 4, 'gamma': 0.001081081081081081, 'kerne...</td>\n      <td>0.056144</td>\n      <td>0.056144</td>\n      <td>0.0</td>\n      <td>37</td>\n      <td>0.055677</td>\n      <td>0.055677</td>\n      <td>0.0</td>\n    </tr>\n    <tr>\n      <th>6</th>\n      <td>0.108253</td>\n      <td>0.0</td>\n      <td>0.032474</td>\n      <td>0.0</td>\n      <td>0.25</td>\n      <td>0.000541</td>\n      <td>sigmoid</td>\n      <td>{'C': 0.25, 'gamma': 0.0005405405405405405, 'k...</td>\n      <td>0.056144</td>\n      <td>0.056144</td>\n      <td>0.0</td>\n      <td>37</td>\n      <td>0.055677</td>\n      <td>0.055677</td>\n      <td>0.0</td>\n    </tr>\n    <tr>\n      <th>4</th>\n      <td>0.110084</td>\n      <td>0.0</td>\n      <td>0.069902</td>\n      <td>0.0</td>\n      <td>0.25</td>\n      <td>0.000541</td>\n      <td>rbf</td>\n      <td>{'C': 0.25, 'gamma': 0.0005405405405405405, 'k...</td>\n      <td>0.056144</td>\n      <td>0.056144</td>\n      <td>0.0</td>\n      <td>37</td>\n      <td>0.055677</td>\n      <td>0.055677</td>\n      <td>0.0</td>\n    </tr>\n    <tr>\n      <th>54</th>\n      <td>0.107599</td>\n      <td>0.0</td>\n      <td>0.031553</td>\n      <td>0.0</td>\n      <td>4</td>\n      <td>0.000541</td>\n      <td>sigmoid</td>\n      <td>{'C': 4, 'gamma': 0.0005405405405405405, 'kern...</td>\n      <td>0.056144</td>\n      <td>0.056144</td>\n      <td>0.0</td>\n      <td>37</td>\n      <td>0.055677</td>\n      <td>0.055677</td>\n      <td>0.0</td>\n    </tr>\n    <tr>\n      <th>8</th>\n      <td>0.111801</td>\n      <td>0.0</td>\n      <td>0.069061</td>\n      <td>0.0</td>\n      <td>0.25</td>\n      <td>0.00036</td>\n      <td>rbf</td>\n      <td>{'C': 0.25, 'gamma': 0.00036036036036036037, '...</td>\n      <td>0.056144</td>\n      <td>0.056144</td>\n      <td>0.0</td>\n      <td>37</td>\n      <td>0.055677</td>\n      <td>0.055677</td>\n      <td>0.0</td>\n    </tr>\n    <tr>\n      <th>2</th>\n      <td>0.108484</td>\n      <td>0.0</td>\n      <td>0.031637</td>\n      <td>0.0</td>\n      <td>0.25</td>\n      <td>0.001081</td>\n      <td>sigmoid</td>\n      <td>{'C': 0.25, 'gamma': 0.001081081081081081, 'ke...</td>\n      <td>0.056144</td>\n      <td>0.056144</td>\n      <td>0.0</td>\n      <td>37</td>\n      <td>0.055677</td>\n      <td>0.055677</td>\n      <td>0.0</td>\n    </tr>\n    <tr>\n      <th>46</th>\n      <td>0.108256</td>\n      <td>0.0</td>\n      <td>0.031854</td>\n      <td>0.0</td>\n      <td>2</td>\n      <td>0.00036</td>\n      <td>sigmoid</td>\n      <td>{'C': 2, 'gamma': 0.00036036036036036037, 'ker...</td>\n      <td>0.056144</td>\n      <td>0.056144</td>\n      <td>0.0</td>\n      <td>37</td>\n      <td>0.055677</td>\n      <td>0.055677</td>\n      <td>0.0</td>\n    </tr>\n    <tr>\n      <th>24</th>\n      <td>0.109578</td>\n      <td>0.0</td>\n      <td>0.067383</td>\n      <td>0.0</td>\n      <td>1</td>\n      <td>0.001081</td>\n      <td>rbf</td>\n      <td>{'C': 1, 'gamma': 0.001081081081081081, 'kerne...</td>\n      <td>0.056144</td>\n      <td>0.056144</td>\n      <td>0.0</td>\n      <td>37</td>\n      <td>1.000000</td>\n      <td>1.000000</td>\n      <td>0.0</td>\n    </tr>\n    <tr>\n      <th>12</th>\n      <td>0.109235</td>\n      <td>0.0</td>\n      <td>0.067611</td>\n      <td>0.0</td>\n      <td>0.5</td>\n      <td>0.001081</td>\n      <td>rbf</td>\n      <td>{'C': 0.5, 'gamma': 0.001081081081081081, 'ker...</td>\n      <td>0.056144</td>\n      <td>0.056144</td>\n      <td>0.0</td>\n      <td>37</td>\n      <td>0.366765</td>\n      <td>0.366765</td>\n      <td>0.0</td>\n    </tr>\n    <tr>\n      <th>42</th>\n      <td>0.108262</td>\n      <td>0.0</td>\n      <td>0.032611</td>\n      <td>0.0</td>\n      <td>2</td>\n      <td>0.000541</td>\n      <td>sigmoid</td>\n      <td>{'C': 2, 'gamma': 0.0005405405405405405, 'kern...</td>\n      <td>0.056144</td>\n      <td>0.056144</td>\n      <td>0.0</td>\n      <td>37</td>\n      <td>0.055677</td>\n      <td>0.055677</td>\n      <td>0.0</td>\n    </tr>\n    <tr>\n      <th>22</th>\n      <td>0.107521</td>\n      <td>0.0</td>\n      <td>0.031665</td>\n      <td>0.0</td>\n      <td>0.5</td>\n      <td>0.00036</td>\n      <td>sigmoid</td>\n      <td>{'C': 0.5, 'gamma': 0.00036036036036036037, 'k...</td>\n      <td>0.056144</td>\n      <td>0.056144</td>\n      <td>0.0</td>\n      <td>37</td>\n      <td>0.055677</td>\n      <td>0.055677</td>\n      <td>0.0</td>\n    </tr>\n    <tr>\n      <th>38</th>\n      <td>0.107729</td>\n      <td>0.0</td>\n      <td>0.031521</td>\n      <td>0.0</td>\n      <td>2</td>\n      <td>0.001081</td>\n      <td>sigmoid</td>\n      <td>{'C': 2, 'gamma': 0.001081081081081081, 'kerne...</td>\n      <td>0.056144</td>\n      <td>0.056144</td>\n      <td>0.0</td>\n      <td>37</td>\n      <td>0.055677</td>\n      <td>0.055677</td>\n      <td>0.0</td>\n    </tr>\n    <tr>\n      <th>14</th>\n      <td>0.109668</td>\n      <td>0.0</td>\n      <td>0.032104</td>\n      <td>0.0</td>\n      <td>0.5</td>\n      <td>0.001081</td>\n      <td>sigmoid</td>\n      <td>{'C': 0.5, 'gamma': 0.001081081081081081, 'ker...</td>\n      <td>0.056144</td>\n      <td>0.056144</td>\n      <td>0.0</td>\n      <td>37</td>\n      <td>0.055677</td>\n      <td>0.055677</td>\n      <td>0.0</td>\n    </tr>\n    <tr>\n      <th>16</th>\n      <td>0.109450</td>\n      <td>0.0</td>\n      <td>0.068161</td>\n      <td>0.0</td>\n      <td>0.5</td>\n      <td>0.000541</td>\n      <td>rbf</td>\n      <td>{'C': 0.5, 'gamma': 0.0005405405405405405, 'ke...</td>\n      <td>0.056144</td>\n      <td>0.056144</td>\n      <td>0.0</td>\n      <td>37</td>\n      <td>0.366765</td>\n      <td>0.366765</td>\n      <td>0.0</td>\n    </tr>\n    <tr>\n      <th>34</th>\n      <td>0.107958</td>\n      <td>0.0</td>\n      <td>0.031622</td>\n      <td>0.0</td>\n      <td>1</td>\n      <td>0.00036</td>\n      <td>sigmoid</td>\n      <td>{'C': 1, 'gamma': 0.00036036036036036037, 'ker...</td>\n      <td>0.056144</td>\n      <td>0.056144</td>\n      <td>0.0</td>\n      <td>37</td>\n      <td>0.055677</td>\n      <td>0.055677</td>\n      <td>0.0</td>\n    </tr>\n    <tr>\n      <th>32</th>\n      <td>0.111346</td>\n      <td>0.0</td>\n      <td>0.067822</td>\n      <td>0.0</td>\n      <td>1</td>\n      <td>0.00036</td>\n      <td>rbf</td>\n      <td>{'C': 1, 'gamma': 0.00036036036036036037, 'ker...</td>\n      <td>0.056144</td>\n      <td>0.056144</td>\n      <td>0.0</td>\n      <td>37</td>\n      <td>1.000000</td>\n      <td>1.000000</td>\n      <td>0.0</td>\n    </tr>\n    <tr>\n      <th>18</th>\n      <td>0.109694</td>\n      <td>0.0</td>\n      <td>0.032313</td>\n      <td>0.0</td>\n      <td>0.5</td>\n      <td>0.000541</td>\n      <td>sigmoid</td>\n      <td>{'C': 0.5, 'gamma': 0.0005405405405405405, 'ke...</td>\n      <td>0.056144</td>\n      <td>0.056144</td>\n      <td>0.0</td>\n      <td>37</td>\n      <td>0.055677</td>\n      <td>0.055677</td>\n      <td>0.0</td>\n    </tr>\n    <tr>\n      <th>30</th>\n      <td>0.107533</td>\n      <td>0.0</td>\n      <td>0.031557</td>\n      <td>0.0</td>\n      <td>1</td>\n      <td>0.000541</td>\n      <td>sigmoid</td>\n      <td>{'C': 1, 'gamma': 0.0005405405405405405, 'kern...</td>\n      <td>0.056144</td>\n      <td>0.056144</td>\n      <td>0.0</td>\n      <td>37</td>\n      <td>0.055677</td>\n      <td>0.055677</td>\n      <td>0.0</td>\n    </tr>\n    <tr>\n      <th>58</th>\n      <td>0.108095</td>\n      <td>0.0</td>\n      <td>0.031937</td>\n      <td>0.0</td>\n      <td>4</td>\n      <td>0.00036</td>\n      <td>sigmoid</td>\n      <td>{'C': 4, 'gamma': 0.00036036036036036037, 'ker...</td>\n      <td>0.056144</td>\n      <td>0.056144</td>\n      <td>0.0</td>\n      <td>37</td>\n      <td>0.055677</td>\n      <td>0.055677</td>\n      <td>0.0</td>\n    </tr>\n    <tr>\n      <th>28</th>\n      <td>0.110066</td>\n      <td>0.0</td>\n      <td>0.067345</td>\n      <td>0.0</td>\n      <td>1</td>\n      <td>0.000541</td>\n      <td>rbf</td>\n      <td>{'C': 1, 'gamma': 0.0005405405405405405, 'kern...</td>\n      <td>0.056144</td>\n      <td>0.056144</td>\n      <td>0.0</td>\n      <td>37</td>\n      <td>1.000000</td>\n      <td>1.000000</td>\n      <td>0.0</td>\n    </tr>\n    <tr>\n      <th>20</th>\n      <td>0.110366</td>\n      <td>0.0</td>\n      <td>0.069155</td>\n      <td>0.0</td>\n      <td>0.5</td>\n      <td>0.00036</td>\n      <td>rbf</td>\n      <td>{'C': 0.5, 'gamma': 0.00036036036036036037, 'k...</td>\n      <td>0.056144</td>\n      <td>0.056144</td>\n      <td>0.0</td>\n      <td>37</td>\n      <td>0.366765</td>\n      <td>0.366765</td>\n      <td>0.0</td>\n    </tr>\n    <tr>\n      <th>26</th>\n      <td>0.107296</td>\n      <td>0.0</td>\n      <td>0.031558</td>\n      <td>0.0</td>\n      <td>1</td>\n      <td>0.001081</td>\n      <td>sigmoid</td>\n      <td>{'C': 1, 'gamma': 0.001081081081081081, 'kerne...</td>\n      <td>0.056144</td>\n      <td>0.056144</td>\n      <td>0.0</td>\n      <td>37</td>\n      <td>0.055677</td>\n      <td>0.055677</td>\n      <td>0.0</td>\n    </tr>\n    <tr>\n      <th>10</th>\n      <td>0.108527</td>\n      <td>0.0</td>\n      <td>0.031781</td>\n      <td>0.0</td>\n      <td>0.25</td>\n      <td>0.00036</td>\n      <td>sigmoid</td>\n      <td>{'C': 0.25, 'gamma': 0.00036036036036036037, '...</td>\n      <td>0.056144</td>\n      <td>0.056144</td>\n      <td>0.0</td>\n      <td>37</td>\n      <td>0.055677</td>\n      <td>0.055677</td>\n      <td>0.0</td>\n    </tr>\n    <tr>\n      <th>0</th>\n      <td>0.118162</td>\n      <td>0.0</td>\n      <td>0.070048</td>\n      <td>0.0</td>\n      <td>0.25</td>\n      <td>0.001081</td>\n      <td>rbf</td>\n      <td>{'C': 0.25, 'gamma': 0.001081081081081081, 'ke...</td>\n      <td>0.056144</td>\n      <td>0.056144</td>\n      <td>0.0</td>\n      <td>37</td>\n      <td>0.055677</td>\n      <td>0.055677</td>\n      <td>0.0</td>\n    </tr>\n  </tbody>\n</table>\n</div>"
     },
     "metadata": {}
    }
   ],
   "source": [
    "# Mostriamo i risultati della Gridsearch con una tabella:\n",
    "\n",
    "df_results = pd.DataFrame(svm_gs.cv_results_)\n",
    "\n",
    "display(df_results.sort_values(['rank_test_score'], ascending=True))"
   ]
  },
  {
   "cell_type": "markdown",
   "id": "cloudy-scope",
   "metadata": {},
   "source": [
    "## Performance della Miglior SVM\n",
    "\n",
    "**ESERCIZIO:** calcolare (e visualizzare) di seguito le performance della miglior SVM trovata con la gridsearch, cioè:\n",
    "1. Accuratezza su $\\mathcal{T}$, $\\mathcal{V}$ e $\\mathcal{P}$;\n",
    "2. Precision (average='weighted') su $\\mathcal{T}$, $\\mathcal{V}$ e $\\mathcal{P}$;\n",
    "3. Recall (average='weighted') su $\\mathcal{T}$, $\\mathcal{V}$ e $\\mathcal{P}$;\n",
    "4. $F_1$-score (average='weighted') su $\\mathcal{T}$, $\\mathcal{V}$ e $\\mathcal{P}$;\n",
    "5. Matrice di Confusione su $\\mathcal{P}$ (senza normalizzazione, normalizzata rispetto le vere classi, normalizzara rispetto le classi predette).\n",
    "\n",
    "**ATTENZIONE:** la miglior SVM _deve essere ri-addestrata_ su $\\mathcal{T}$!!! La classe GridSearchCV, a fine procedimento, addestra infatti il miglior modello sulle cooppie input-output in argomento al metodo fit; nel nostro caso, addestra cioè su tutto $\\mathcal{D}$. Questa operazione è dovuta al fatto che la classe è stata pensata principalmente per l'uso di default con la cross-validation."
   ]
  },
  {
   "cell_type": "code",
   "execution_count": 5,
   "id": "black-nature",
   "metadata": {},
   "outputs": [
    {
     "output_type": "display_data",
     "data": {
      "text/plain": "            Accuracy  Precision    Recall        F1\ntraining    1.000000   1.000000  1.000000  1.000000\nvalidation  1.000000   0.817321  0.810078  0.811416\ntest        0.791925   0.796600  0.791925  0.793513",
      "text/html": "<div>\n<style scoped>\n    .dataframe tbody tr th:only-of-type {\n        vertical-align: middle;\n    }\n\n    .dataframe tbody tr th {\n        vertical-align: top;\n    }\n\n    .dataframe thead th {\n        text-align: right;\n    }\n</style>\n<table border=\"1\" class=\"dataframe\">\n  <thead>\n    <tr style=\"text-align: right;\">\n      <th></th>\n      <th>Accuracy</th>\n      <th>Precision</th>\n      <th>Recall</th>\n      <th>F1</th>\n    </tr>\n  </thead>\n  <tbody>\n    <tr>\n      <th>training</th>\n      <td>1.000000</td>\n      <td>1.000000</td>\n      <td>1.000000</td>\n      <td>1.000000</td>\n    </tr>\n    <tr>\n      <th>validation</th>\n      <td>1.000000</td>\n      <td>0.817321</td>\n      <td>0.810078</td>\n      <td>0.811416</td>\n    </tr>\n    <tr>\n      <th>test</th>\n      <td>0.791925</td>\n      <td>0.796600</td>\n      <td>0.791925</td>\n      <td>0.793513</td>\n    </tr>\n  </tbody>\n</table>\n</div>"
     },
     "metadata": {}
    },
    {
     "output_type": "display_data",
     "data": {
      "text/plain": "                   Ariel Sharon  Colin Powell  Donald Rumsfeld  George W Bush  \\\nAriel Sharon                 25             1                8              3   \nColin Powell                  6           100                1              5   \nDonald Rumsfeld               4             2               38              8   \nGeorge W Bush                 4            10               14            220   \nGerhard Schroeder             1             4                0              7   \nHugo Chavez                   0             1                0              2   \nTony Blair                    1             1                2              4   \n\n                   Gerhard Schroeder  Hugo Chavez  Tony Blair  \nAriel Sharon                       2            0           1  \nColin Powell                       1            2           4  \nDonald Rumsfeld                    4            0           1  \nGeorge W Bush                      6            1           6  \nGerhard Schroeder                 41            2           5  \nHugo Chavez                        3           25           3  \nTony Blair                         4            0          61  ",
      "text/html": "<div>\n<style scoped>\n    .dataframe tbody tr th:only-of-type {\n        vertical-align: middle;\n    }\n\n    .dataframe tbody tr th {\n        vertical-align: top;\n    }\n\n    .dataframe thead th {\n        text-align: right;\n    }\n</style>\n<table border=\"1\" class=\"dataframe\">\n  <thead>\n    <tr style=\"text-align: right;\">\n      <th></th>\n      <th>Ariel Sharon</th>\n      <th>Colin Powell</th>\n      <th>Donald Rumsfeld</th>\n      <th>George W Bush</th>\n      <th>Gerhard Schroeder</th>\n      <th>Hugo Chavez</th>\n      <th>Tony Blair</th>\n    </tr>\n  </thead>\n  <tbody>\n    <tr>\n      <th>Ariel Sharon</th>\n      <td>25</td>\n      <td>1</td>\n      <td>8</td>\n      <td>3</td>\n      <td>2</td>\n      <td>0</td>\n      <td>1</td>\n    </tr>\n    <tr>\n      <th>Colin Powell</th>\n      <td>6</td>\n      <td>100</td>\n      <td>1</td>\n      <td>5</td>\n      <td>1</td>\n      <td>2</td>\n      <td>4</td>\n    </tr>\n    <tr>\n      <th>Donald Rumsfeld</th>\n      <td>4</td>\n      <td>2</td>\n      <td>38</td>\n      <td>8</td>\n      <td>4</td>\n      <td>0</td>\n      <td>1</td>\n    </tr>\n    <tr>\n      <th>George W Bush</th>\n      <td>4</td>\n      <td>10</td>\n      <td>14</td>\n      <td>220</td>\n      <td>6</td>\n      <td>1</td>\n      <td>6</td>\n    </tr>\n    <tr>\n      <th>Gerhard Schroeder</th>\n      <td>1</td>\n      <td>4</td>\n      <td>0</td>\n      <td>7</td>\n      <td>41</td>\n      <td>2</td>\n      <td>5</td>\n    </tr>\n    <tr>\n      <th>Hugo Chavez</th>\n      <td>0</td>\n      <td>1</td>\n      <td>0</td>\n      <td>2</td>\n      <td>3</td>\n      <td>25</td>\n      <td>3</td>\n    </tr>\n    <tr>\n      <th>Tony Blair</th>\n      <td>1</td>\n      <td>1</td>\n      <td>2</td>\n      <td>4</td>\n      <td>4</td>\n      <td>0</td>\n      <td>61</td>\n    </tr>\n  </tbody>\n</table>\n</div>"
     },
     "metadata": {}
    },
    {
     "output_type": "display_data",
     "data": {
      "text/plain": "                   Ariel Sharon  Colin Powell  Donald Rumsfeld  George W Bush  \\\nAriel Sharon           0.625000      0.025000         0.200000       0.075000   \nColin Powell           0.050420      0.840336         0.008403       0.042017   \nDonald Rumsfeld        0.070175      0.035088         0.666667       0.140351   \nGeorge W Bush          0.015326      0.038314         0.053640       0.842912   \nGerhard Schroeder      0.016667      0.066667         0.000000       0.116667   \nHugo Chavez            0.000000      0.029412         0.000000       0.058824   \nTony Blair             0.013699      0.013699         0.027397       0.054795   \n\n                   Gerhard Schroeder  Hugo Chavez  Tony Blair  \nAriel Sharon                0.050000     0.000000    0.025000  \nColin Powell                0.008403     0.016807    0.033613  \nDonald Rumsfeld             0.070175     0.000000    0.017544  \nGeorge W Bush               0.022989     0.003831    0.022989  \nGerhard Schroeder           0.683333     0.033333    0.083333  \nHugo Chavez                 0.088235     0.735294    0.088235  \nTony Blair                  0.054795     0.000000    0.835616  ",
      "text/html": "<div>\n<style scoped>\n    .dataframe tbody tr th:only-of-type {\n        vertical-align: middle;\n    }\n\n    .dataframe tbody tr th {\n        vertical-align: top;\n    }\n\n    .dataframe thead th {\n        text-align: right;\n    }\n</style>\n<table border=\"1\" class=\"dataframe\">\n  <thead>\n    <tr style=\"text-align: right;\">\n      <th></th>\n      <th>Ariel Sharon</th>\n      <th>Colin Powell</th>\n      <th>Donald Rumsfeld</th>\n      <th>George W Bush</th>\n      <th>Gerhard Schroeder</th>\n      <th>Hugo Chavez</th>\n      <th>Tony Blair</th>\n    </tr>\n  </thead>\n  <tbody>\n    <tr>\n      <th>Ariel Sharon</th>\n      <td>0.625000</td>\n      <td>0.025000</td>\n      <td>0.200000</td>\n      <td>0.075000</td>\n      <td>0.050000</td>\n      <td>0.000000</td>\n      <td>0.025000</td>\n    </tr>\n    <tr>\n      <th>Colin Powell</th>\n      <td>0.050420</td>\n      <td>0.840336</td>\n      <td>0.008403</td>\n      <td>0.042017</td>\n      <td>0.008403</td>\n      <td>0.016807</td>\n      <td>0.033613</td>\n    </tr>\n    <tr>\n      <th>Donald Rumsfeld</th>\n      <td>0.070175</td>\n      <td>0.035088</td>\n      <td>0.666667</td>\n      <td>0.140351</td>\n      <td>0.070175</td>\n      <td>0.000000</td>\n      <td>0.017544</td>\n    </tr>\n    <tr>\n      <th>George W Bush</th>\n      <td>0.015326</td>\n      <td>0.038314</td>\n      <td>0.053640</td>\n      <td>0.842912</td>\n      <td>0.022989</td>\n      <td>0.003831</td>\n      <td>0.022989</td>\n    </tr>\n    <tr>\n      <th>Gerhard Schroeder</th>\n      <td>0.016667</td>\n      <td>0.066667</td>\n      <td>0.000000</td>\n      <td>0.116667</td>\n      <td>0.683333</td>\n      <td>0.033333</td>\n      <td>0.083333</td>\n    </tr>\n    <tr>\n      <th>Hugo Chavez</th>\n      <td>0.000000</td>\n      <td>0.029412</td>\n      <td>0.000000</td>\n      <td>0.058824</td>\n      <td>0.088235</td>\n      <td>0.735294</td>\n      <td>0.088235</td>\n    </tr>\n    <tr>\n      <th>Tony Blair</th>\n      <td>0.013699</td>\n      <td>0.013699</td>\n      <td>0.027397</td>\n      <td>0.054795</td>\n      <td>0.054795</td>\n      <td>0.000000</td>\n      <td>0.835616</td>\n    </tr>\n  </tbody>\n</table>\n</div>"
     },
     "metadata": {}
    },
    {
     "output_type": "display_data",
     "data": {
      "text/plain": "                   Ariel Sharon  Colin Powell  Donald Rumsfeld  George W Bush  \\\nAriel Sharon           0.609756      0.008403         0.126984       0.012048   \nColin Powell           0.146341      0.840336         0.015873       0.020080   \nDonald Rumsfeld        0.097561      0.016807         0.603175       0.032129   \nGeorge W Bush          0.097561      0.084034         0.222222       0.883534   \nGerhard Schroeder      0.024390      0.033613         0.000000       0.028112   \nHugo Chavez            0.000000      0.008403         0.000000       0.008032   \nTony Blair             0.024390      0.008403         0.031746       0.016064   \n\n                   Gerhard Schroeder  Hugo Chavez  Tony Blair  \nAriel Sharon                0.032787     0.000000    0.012346  \nColin Powell                0.016393     0.066667    0.049383  \nDonald Rumsfeld             0.065574     0.000000    0.012346  \nGeorge W Bush               0.098361     0.033333    0.074074  \nGerhard Schroeder           0.672131     0.066667    0.061728  \nHugo Chavez                 0.049180     0.833333    0.037037  \nTony Blair                  0.065574     0.000000    0.753086  ",
      "text/html": "<div>\n<style scoped>\n    .dataframe tbody tr th:only-of-type {\n        vertical-align: middle;\n    }\n\n    .dataframe tbody tr th {\n        vertical-align: top;\n    }\n\n    .dataframe thead th {\n        text-align: right;\n    }\n</style>\n<table border=\"1\" class=\"dataframe\">\n  <thead>\n    <tr style=\"text-align: right;\">\n      <th></th>\n      <th>Ariel Sharon</th>\n      <th>Colin Powell</th>\n      <th>Donald Rumsfeld</th>\n      <th>George W Bush</th>\n      <th>Gerhard Schroeder</th>\n      <th>Hugo Chavez</th>\n      <th>Tony Blair</th>\n    </tr>\n  </thead>\n  <tbody>\n    <tr>\n      <th>Ariel Sharon</th>\n      <td>0.609756</td>\n      <td>0.008403</td>\n      <td>0.126984</td>\n      <td>0.012048</td>\n      <td>0.032787</td>\n      <td>0.000000</td>\n      <td>0.012346</td>\n    </tr>\n    <tr>\n      <th>Colin Powell</th>\n      <td>0.146341</td>\n      <td>0.840336</td>\n      <td>0.015873</td>\n      <td>0.020080</td>\n      <td>0.016393</td>\n      <td>0.066667</td>\n      <td>0.049383</td>\n    </tr>\n    <tr>\n      <th>Donald Rumsfeld</th>\n      <td>0.097561</td>\n      <td>0.016807</td>\n      <td>0.603175</td>\n      <td>0.032129</td>\n      <td>0.065574</td>\n      <td>0.000000</td>\n      <td>0.012346</td>\n    </tr>\n    <tr>\n      <th>George W Bush</th>\n      <td>0.097561</td>\n      <td>0.084034</td>\n      <td>0.222222</td>\n      <td>0.883534</td>\n      <td>0.098361</td>\n      <td>0.033333</td>\n      <td>0.074074</td>\n    </tr>\n    <tr>\n      <th>Gerhard Schroeder</th>\n      <td>0.024390</td>\n      <td>0.033613</td>\n      <td>0.000000</td>\n      <td>0.028112</td>\n      <td>0.672131</td>\n      <td>0.066667</td>\n      <td>0.061728</td>\n    </tr>\n    <tr>\n      <th>Hugo Chavez</th>\n      <td>0.000000</td>\n      <td>0.008403</td>\n      <td>0.000000</td>\n      <td>0.008032</td>\n      <td>0.049180</td>\n      <td>0.833333</td>\n      <td>0.037037</td>\n    </tr>\n    <tr>\n      <th>Tony Blair</th>\n      <td>0.024390</td>\n      <td>0.008403</td>\n      <td>0.031746</td>\n      <td>0.016064</td>\n      <td>0.065574</td>\n      <td>0.000000</td>\n      <td>0.753086</td>\n    </tr>\n  </tbody>\n</table>\n</div>"
     },
     "metadata": {}
    }
   ],
   "source": [
    "# Calcolo delle predizioni sul test set.\n",
    "# Nomi delle variabili:\n",
    "#\n",
    "# y_pred_train: vettore delle predizioni sul training;\n",
    "# y_true_train: vettore dei target \"veri\" del training set;\n",
    "# y_pred_val: vettore delle predizioni sul validation;\n",
    "# y_true_val: vettore dei target \"veri\" del validation set;\n",
    "#\n",
    "# y_pred: vettore delle predizioni sul test;\n",
    "# y_true: vettore dei target \"veri\" del test set\n",
    "\n",
    "# Ri-addestramento della miglior SVM\n",
    "svm_gs.best_estimator_.fit(face_data[ind_train, :], face_targets[ind_train])\n",
    "\n",
    "y_pred_train = svm_gs.best_estimator_.predict(face_data[ind_train, :])\n",
    "y_true_train = face_targets[ind_train]\n",
    "y_pred_val = svm_gs.best_estimator_.predict(face_data[ind_val, :])\n",
    "y_true_val = face_targets[ind_val]\n",
    "\n",
    "y_pred = svm_gs.best_estimator_.predict(face_data[ind_test, :])\n",
    "y_true = face_targets[ind_test]\n",
    "\n",
    "acc_train = svm_gs.best_estimator_.score(face_data[ind_train, :], y_true_train)\n",
    "prec_train = precision_score(y_true_train, y_pred_train, average='weighted')\n",
    "rec_train = recall_score(y_true_train, y_pred_train, average='weighted')\n",
    "f1_train = f1_score(y_true_train, y_pred_train, average='weighted')\n",
    "\n",
    "acc_val = svm_gs.best_estimator_.score(face_data[ind_val, :], y_pred_val)\n",
    "prec_val = precision_score(y_true_val, y_pred_val, average='weighted')\n",
    "rec_val = recall_score(y_true_val, y_pred_val, average='weighted')\n",
    "f1_val = f1_score(y_true_val, y_pred_val, average='weighted')\n",
    "\n",
    "acc = svm_gs.best_estimator_.score(face_data[ind_test, :], y_true)\n",
    "prec = precision_score(y_true, y_pred, average='weighted')\n",
    "rec = recall_score(y_true, y_pred, average='weighted')\n",
    "f1 = f1_score(y_true, y_pred, average='weighted')\n",
    "\n",
    "df_perf = pd.DataFrame({'Accuracy': [acc_train, acc_val, acc], \n",
    "                        'Precision': [prec_train, prec_val, prec], \n",
    "                        'Recall': [rec_train, rec_val, rec],\n",
    "                        'F1': [f1_train, f1_val, f1]\n",
    "                       },\n",
    "                      index=['training', 'validation', 'test'])\n",
    "\n",
    "cmat = confusion_matrix(y_true, y_pred, labels=svm_gs.best_estimator_.classes_)\n",
    "cmat_norm_true = confusion_matrix(y_true, y_pred, labels=svm_gs.best_estimator_.classes_, normalize='true')\n",
    "cmat_norm_pred = confusion_matrix(y_true, y_pred, labels=svm_gs.best_estimator_.classes_, normalize='pred')\n",
    "\n",
    "df_cmat = pd.DataFrame(cmat, columns=face_tnames, index=face_tnames)\n",
    "df_cmat_norm_true = pd.DataFrame(cmat_norm_true, columns=face_tnames, index=face_tnames)\n",
    "df_cmat_norm_pred = pd.DataFrame(cmat_norm_pred, columns=face_tnames, index=face_tnames)\n",
    "\n",
    "display(df_perf)\n",
    "display(df_cmat)\n",
    "display(df_cmat_norm_true)\n",
    "display(df_cmat_norm_pred)"
   ]
  },
  {
   "cell_type": "markdown",
   "id": "herbal-islam",
   "metadata": {},
   "source": [
    "## Alcuni Esempi Visivi\n",
    "\n",
    "Mostriamo visivamente come viene fatta la classificazione multi-classe. \n",
    "\n",
    "**RICORDA:** la classe SVC non addestra un'unica SVM (se $m>2$); in realtà esegue il metodo \"One-VS-One\", addestrando quindi $\\begin{pmatrix}m \\\\ 2\\end{pmatrix}$ SVM per ogni coppia di classi. La predizione su $\\boldsymbol{x}$ restituisce quindi la classe $\\widehat{y}$ se questa è la classe predetta in maggioranza tra tutte le SVM \"interne\".\n",
    "\n",
    "**In Scikit-Learn:** con le opzioni di default utilizzate nel codice sopra, il metodo \"decision_function\" di una SVC multiclasse restituisce, per ogni $\\boldsymbol{x}$ un vettore di $m$ elementi, dove l'$i$-esimo elemento ha valore maggiore se l'$i$-esima classe è quella predetta maggiormente dalle SVM \"interne\". **ATTENZIONE:** questi valori non sono né percentuali né interi, sono il risultato di una trasformazione eseguita da scikit-learn per \"elaborare\" più facilmente il risultato delle predizioni fatte dalle SVM \"interne\"."
   ]
  },
  {
   "cell_type": "code",
   "execution_count": 7,
   "id": "valid-battery",
   "metadata": {},
   "outputs": [
    {
     "output_type": "display_data",
     "data": {
      "text/plain": "Canvas(toolbar=Toolbar(toolitems=[('Home', 'Reset original view', 'home', 'home'), ('Back', 'Back to previous …",
      "application/vnd.jupyter.widget-view+json": {
       "version_major": 2,
       "version_minor": 0,
       "model_id": "4fb09ca9bf404821843088aafd3d252e"
      }
     },
     "metadata": {}
    },
    {
     "output_type": "display_data",
     "data": {
      "text/plain": "Canvas(toolbar=Toolbar(toolitems=[('Home', 'Reset original view', 'home', 'home'), ('Back', 'Back to previous …",
      "application/vnd.jupyter.widget-view+json": {
       "version_major": 2,
       "version_minor": 0,
       "model_id": "1b4781fcbe184636a715a10a7bb34c1a"
      }
     },
     "metadata": {}
    },
    {
     "output_type": "display_data",
     "data": {
      "text/plain": "Canvas(toolbar=Toolbar(toolitems=[('Home', 'Reset original view', 'home', 'home'), ('Back', 'Back to previous …",
      "application/vnd.jupyter.widget-view+json": {
       "version_major": 2,
       "version_minor": 0,
       "model_id": "64d67c77b96c4fcd9f3f1bfb2bc27a3c"
      }
     },
     "metadata": {}
    },
    {
     "output_type": "display_data",
     "data": {
      "text/plain": "Canvas(toolbar=Toolbar(toolitems=[('Home', 'Reset original view', 'home', 'home'), ('Back', 'Back to previous …",
      "application/vnd.jupyter.widget-view+json": {
       "version_major": 2,
       "version_minor": 0,
       "model_id": "b8df17d4c9a14d57b4d274e25c078f85"
      }
     },
     "metadata": {}
    },
    {
     "output_type": "display_data",
     "data": {
      "text/plain": "Canvas(toolbar=Toolbar(toolitems=[('Home', 'Reset original view', 'home', 'home'), ('Back', 'Back to previous …",
      "application/vnd.jupyter.widget-view+json": {
       "version_major": 2,
       "version_minor": 0,
       "model_id": "56864e3993aa4dbbacb1fa63da898677"
      }
     },
     "metadata": {}
    },
    {
     "output_type": "display_data",
     "data": {
      "text/plain": "Canvas(toolbar=Toolbar(toolitems=[('Home', 'Reset original view', 'home', 'home'), ('Back', 'Back to previous …",
      "application/vnd.jupyter.widget-view+json": {
       "version_major": 2,
       "version_minor": 0,
       "model_id": "a66356982a614edc997a79b072ef525a"
      }
     },
     "metadata": {}
    },
    {
     "output_type": "display_data",
     "data": {
      "text/plain": "Canvas(toolbar=Toolbar(toolitems=[('Home', 'Reset original view', 'home', 'home'), ('Back', 'Back to previous …",
      "application/vnd.jupyter.widget-view+json": {
       "version_major": 2,
       "version_minor": 0,
       "model_id": "396aacb104c746b1b60281b69d0bf23d"
      }
     },
     "metadata": {}
    },
    {
     "output_type": "display_data",
     "data": {
      "text/plain": "Canvas(toolbar=Toolbar(toolitems=[('Home', 'Reset original view', 'home', 'home'), ('Back', 'Back to previous …",
      "application/vnd.jupyter.widget-view+json": {
       "version_major": 2,
       "version_minor": 0,
       "model_id": "adf7761563c549b0b54c6ee4304cc432"
      }
     },
     "metadata": {}
    },
    {
     "output_type": "display_data",
     "data": {
      "text/plain": "Canvas(toolbar=Toolbar(toolitems=[('Home', 'Reset original view', 'home', 'home'), ('Back', 'Back to previous …",
      "application/vnd.jupyter.widget-view+json": {
       "version_major": 2,
       "version_minor": 0,
       "model_id": "9f99f650c4fd4e7fbfe0a45ab8387678"
      }
     },
     "metadata": {}
    },
    {
     "output_type": "display_data",
     "data": {
      "text/plain": "Canvas(toolbar=Toolbar(toolitems=[('Home', 'Reset original view', 'home', 'home'), ('Back', 'Back to previous …",
      "application/vnd.jupyter.widget-view+json": {
       "version_major": 2,
       "version_minor": 0,
       "model_id": "799fb253c6bd4d1da070975cad766aa8"
      }
     },
     "metadata": {}
    },
    {
     "output_type": "display_data",
     "data": {
      "text/plain": "Canvas(toolbar=Toolbar(toolitems=[('Home', 'Reset original view', 'home', 'home'), ('Back', 'Back to previous …",
      "application/vnd.jupyter.widget-view+json": {
       "version_major": 2,
       "version_minor": 0,
       "model_id": "76d78d48a8e74d7bb670462b469e1afd"
      }
     },
     "metadata": {}
    },
    {
     "output_type": "display_data",
     "data": {
      "text/plain": "Canvas(toolbar=Toolbar(toolitems=[('Home', 'Reset original view', 'home', 'home'), ('Back', 'Back to previous …",
      "application/vnd.jupyter.widget-view+json": {
       "version_major": 2,
       "version_minor": 0,
       "model_id": "c7cbc2d709174d48896432574a5e98c5"
      }
     },
     "metadata": {}
    },
    {
     "output_type": "display_data",
     "data": {
      "text/plain": "Canvas(toolbar=Toolbar(toolitems=[('Home', 'Reset original view', 'home', 'home'), ('Back', 'Back to previous …",
      "application/vnd.jupyter.widget-view+json": {
       "version_major": 2,
       "version_minor": 0,
       "model_id": "1a605b964491415eba1f0b0226ac8f55"
      }
     },
     "metadata": {}
    },
    {
     "output_type": "display_data",
     "data": {
      "text/plain": "Canvas(toolbar=Toolbar(toolitems=[('Home', 'Reset original view', 'home', 'home'), ('Back', 'Back to previous …",
      "application/vnd.jupyter.widget-view+json": {
       "version_major": 2,
       "version_minor": 0,
       "model_id": "619e2d554d7a4da89e1fa3636a956425"
      }
     },
     "metadata": {}
    },
    {
     "output_type": "display_data",
     "data": {
      "text/plain": "Canvas(toolbar=Toolbar(toolitems=[('Home', 'Reset original view', 'home', 'home'), ('Back', 'Back to previous …",
      "application/vnd.jupyter.widget-view+json": {
       "version_major": 2,
       "version_minor": 0,
       "model_id": "d522429480b84cf1a971b8916dc1513f"
      }
     },
     "metadata": {}
    },
    {
     "output_type": "display_data",
     "data": {
      "text/plain": "Canvas(toolbar=Toolbar(toolitems=[('Home', 'Reset original view', 'home', 'home'), ('Back', 'Back to previous …",
      "application/vnd.jupyter.widget-view+json": {
       "version_major": 2,
       "version_minor": 0,
       "model_id": "be81f719199e440f805d2e2b71c25e1d"
      }
     },
     "metadata": {}
    },
    {
     "output_type": "display_data",
     "data": {
      "text/plain": "Canvas(toolbar=Toolbar(toolitems=[('Home', 'Reset original view', 'home', 'home'), ('Back', 'Back to previous …",
      "application/vnd.jupyter.widget-view+json": {
       "version_major": 2,
       "version_minor": 0,
       "model_id": "69b43d4aaa3c4428be6bcc5a733e0d59"
      }
     },
     "metadata": {}
    },
    {
     "output_type": "display_data",
     "data": {
      "text/plain": "Canvas(toolbar=Toolbar(toolitems=[('Home', 'Reset original view', 'home', 'home'), ('Back', 'Back to previous …",
      "application/vnd.jupyter.widget-view+json": {
       "version_major": 2,
       "version_minor": 0,
       "model_id": "8b1549b8809845d4bbff9c77d3055327"
      }
     },
     "metadata": {}
    },
    {
     "output_type": "display_data",
     "data": {
      "text/plain": "Canvas(toolbar=Toolbar(toolitems=[('Home', 'Reset original view', 'home', 'home'), ('Back', 'Back to previous …",
      "application/vnd.jupyter.widget-view+json": {
       "version_major": 2,
       "version_minor": 0,
       "model_id": "6a3805c758c54dba923c7179a1278460"
      }
     },
     "metadata": {}
    },
    {
     "output_type": "display_data",
     "data": {
      "text/plain": "Canvas(toolbar=Toolbar(toolitems=[('Home', 'Reset original view', 'home', 'home'), ('Back', 'Back to previous …",
      "application/vnd.jupyter.widget-view+json": {
       "version_major": 2,
       "version_minor": 0,
       "model_id": "3c31239991ec440cbdb5f5ec7b13c949"
      }
     },
     "metadata": {}
    },
    {
     "output_type": "display_data",
     "data": {
      "text/plain": "Canvas(toolbar=Toolbar(toolitems=[('Home', 'Reset original view', 'home', 'home'), ('Back', 'Back to previous …",
      "application/vnd.jupyter.widget-view+json": {
       "version_major": 2,
       "version_minor": 0,
       "model_id": "7ede60e73ada40458090c761136e57f3"
      }
     },
     "metadata": {}
    },
    {
     "output_type": "display_data",
     "data": {
      "text/plain": "Canvas(toolbar=Toolbar(toolitems=[('Home', 'Reset original view', 'home', 'home'), ('Back', 'Back to previous …",
      "application/vnd.jupyter.widget-view+json": {
       "version_major": 2,
       "version_minor": 0,
       "model_id": "ae7a7e73a5e541b58a12a711ef602c62"
      }
     },
     "metadata": {}
    },
    {
     "output_type": "display_data",
     "data": {
      "text/plain": "Canvas(toolbar=Toolbar(toolitems=[('Home', 'Reset original view', 'home', 'home'), ('Back', 'Back to previous …",
      "application/vnd.jupyter.widget-view+json": {
       "version_major": 2,
       "version_minor": 0,
       "model_id": "fa22ab2a29694dcb96ad9d8fb4d1f87d"
      }
     },
     "metadata": {}
    },
    {
     "output_type": "display_data",
     "data": {
      "text/plain": "Canvas(toolbar=Toolbar(toolitems=[('Home', 'Reset original view', 'home', 'home'), ('Back', 'Back to previous …",
      "application/vnd.jupyter.widget-view+json": {
       "version_major": 2,
       "version_minor": 0,
       "model_id": "42d3b1d6eca048009846186ca1381340"
      }
     },
     "metadata": {}
    },
    {
     "output_type": "display_data",
     "data": {
      "text/plain": "Canvas(toolbar=Toolbar(toolitems=[('Home', 'Reset original view', 'home', 'home'), ('Back', 'Back to previous …",
      "application/vnd.jupyter.widget-view+json": {
       "version_major": 2,
       "version_minor": 0,
       "model_id": "51858465e7354be991b80afc668f3234"
      }
     },
     "metadata": {}
    }
   ],
   "source": [
    "# Abbreviazione nomi per etichette in barplot\n",
    "face_tnames_short = []\n",
    "for name in face_tnames:\n",
    "    name_split = name.split(' ')\n",
    "    nm = ''\n",
    "    for word in name_split:\n",
    "        nm = nm + word[0]\n",
    "    face_tnames_short.append(nm)\n",
    "\n",
    "# Selezione di \"n_randsamples\" volti random dal dataset\n",
    "\n",
    "n_randsamples = 25\n",
    "ind_test_rand = np.random.choice(len(ind_test), n_randsamples, replace=False)\n",
    "ind_test_rand = ind_test[ind_test_rand]\n",
    "\n",
    "# Matrice delle n_randsamples volti scelti (una riga, un volto)\n",
    "rand_faces = face_data[ind_test_rand, :]\n",
    "\n",
    "# Decision Function per i volti random:\n",
    "rand_faces_decision = svm_gs.best_estimator_.decision_function(rand_faces)\n",
    "y_pred_rand_faces = svm_gs.best_estimator_.predict(rand_faces)\n",
    "\n",
    "for i in range(n_randsamples):\n",
    "    fig, axs = plt.subplots(1, 2, figsize=(8, 3))\n",
    "    ii = ind_test_rand[i]\n",
    "    face_ii = face_images[ii]\n",
    "    \n",
    "    axs[0].imshow(face_ii, cmap=plt.cm.gray)\n",
    "    axs[0].set_title('Volto {} ({})'.format(ii, face_tnames[face_targets[ii]]))\n",
    "    \n",
    "    axs[1].bar(np.arange(len(face_tnames)),\n",
    "               rand_faces_decision[i, :]\n",
    "              )\n",
    "    axs[1].grid()\n",
    "    axs[1].set_xticks(np.arange(len(face_tnames)))\n",
    "    axs[1].set_xticklabels(face_tnames_short,\n",
    "                           rotation=15,\n",
    "                           fontsize=12\n",
    "                          )\n",
    "    axs[1].set_title('Predizione: {}'.format(face_tnames[y_pred_rand_faces[i]]))\n",
    "    \n",
    "plt.show()"
   ]
  },
  {
   "cell_type": "code",
   "execution_count": null,
   "id": "valuable-authentication",
   "metadata": {},
   "outputs": [],
   "source": []
  }
 ],
 "metadata": {
  "kernelspec": {
   "name": "python3",
   "display_name": "Python 3.7.10 64-bit ('.MIA': venv)"
  },
  "language_info": {
   "codemirror_mode": {
    "name": "ipython",
    "version": 3
   },
   "file_extension": ".py",
   "mimetype": "text/x-python",
   "name": "python",
   "nbconvert_exporter": "python",
   "pygments_lexer": "ipython3",
   "version": "3.7.10"
  },
  "interpreter": {
   "hash": "3c94e5d2d94ae79f20c05dca31fe59648014fa6b43c3225fc2c41f6f02e485d1"
  }
 },
 "nbformat": 4,
 "nbformat_minor": 5
}