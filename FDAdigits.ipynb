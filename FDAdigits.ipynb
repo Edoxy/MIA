{
 "cells": [
  {
   "cell_type": "markdown",
   "id": "curious-synthetic",
   "metadata": {},
   "source": [
    "# Fisher Discriminant Analysis\n",
    "\n",
    "In questo laboratorio studieremo l'implementazione della Fisher Discriminant Analysis (FDA), in particolare nella sua forma generalizzata a più classi (Multiple Discriminant Analysis - MDA)."
   ]
  },
  {
   "cell_type": "code",
   "execution_count": 1,
   "id": "normal-jumping",
   "metadata": {},
   "outputs": [],
   "source": [
    "# ***** NOTA BENE! *****\n",
    "# perché %matplotlib widget funzioni, installare nell'ambiente virtuale \n",
    "# il pacchetto ipympl con il comando:\n",
    "# pip install ipympl\n",
    "#\n",
    "# ATTENZIONE: perché funzioni è necessario chiudere e rilanciare jupyter-lab\n",
    "#\n",
    "# STILE DI VISUALIZZAZIONE PLOT FATTI CON MATPLOTLIB\n",
    "%matplotlib widget\n",
    "#\n",
    "#\n",
    "import numpy as np\n",
    "import pandas as pd\n",
    "import sklearn\n",
    "import sklearn.datasets as datasets\n",
    "from sklearn.decomposition import PCA\n",
    "from sklearn.preprocessing import StandardScaler\n",
    "import matplotlib\n",
    "import matplotlib.pyplot as plt\n",
    "from mpl_toolkits.mplot3d import Axes3D\n",
    "from IPython.display import display\n",
    "from FisherDA import MultipleFisherDiscriminantAnalysis as MDA"
   ]
  },
  {
   "cell_type": "markdown",
   "id": "pacific-referral",
   "metadata": {},
   "source": [
    "## Importazione Dataset digits\n",
    "\n",
    "Importiamo il dataset \"digits\" di scikit-learn come visto nei laboratori per la PCA."
   ]
  },
  {
   "cell_type": "code",
   "execution_count": 2,
   "id": "completed-nevada",
   "metadata": {},
   "outputs": [
    {
     "name": "stdout",
     "output_type": "stream",
     "text": [
      ".. _digits_dataset:\n",
      "\n",
      "Optical recognition of handwritten digits dataset\n",
      "--------------------------------------------------\n",
      "\n",
      "**Data Set Characteristics:**\n",
      "\n",
      "    :Number of Instances: 1797\n",
      "    :Number of Attributes: 64\n",
      "    :Attribute Information: 8x8 image of integer pixels in the range 0..16.\n",
      "    :Missing Attribute Values: None\n",
      "    :Creator: E. Alpaydin (alpaydin '@' boun.edu.tr)\n",
      "    :Date: July; 1998\n",
      "\n",
      "This is a copy of the test set of the UCI ML hand-written digits datasets\n",
      "https://archive.ics.uci.edu/ml/datasets/Optical+Recognition+of+Handwritten+Digits\n",
      "\n",
      "The data set contains images of hand-written digits: 10 classes where\n",
      "each class refers to a digit.\n",
      "\n",
      "Preprocessing programs made available by NIST were used to extract\n",
      "normalized bitmaps of handwritten digits from a preprinted form. From a\n",
      "total of 43 people, 30 contributed to the training set and different 13\n",
      "to the test set. 32x32 bitmaps are divided into nonoverlapping blocks of\n",
      "4x4 and the number of on pixels are counted in each block. This generates\n",
      "an input matrix of 8x8 where each element is an integer in the range\n",
      "0..16. This reduces dimensionality and gives invariance to small\n",
      "distortions.\n",
      "\n",
      "For info on NIST preprocessing routines, see M. D. Garris, J. L. Blue, G.\n",
      "T. Candela, D. L. Dimmick, J. Geist, P. J. Grother, S. A. Janet, and C.\n",
      "L. Wilson, NIST Form-Based Handprint Recognition System, NISTIR 5469,\n",
      "1994.\n",
      "\n",
      ".. topic:: References\n",
      "\n",
      "  - C. Kaynak (1995) Methods of Combining Multiple Classifiers and Their\n",
      "    Applications to Handwritten Digit Recognition, MSc Thesis, Institute of\n",
      "    Graduate Studies in Science and Engineering, Bogazici University.\n",
      "  - E. Alpaydin, C. Kaynak (1998) Cascading Classifiers, Kybernetika.\n",
      "  - Ken Tang and Ponnuthurai N. Suganthan and Xi Yao and A. Kai Qin.\n",
      "    Linear dimensionalityreduction using relevance weighted LDA. School of\n",
      "    Electrical and Electronic Engineering Nanyang Technological University.\n",
      "    2005.\n",
      "  - Claudio Gentile. A New Approximate Maximal Margin Classification\n",
      "    Algorithm. NIPS. 2000.\n",
      "\n"
     ]
    }
   ],
   "source": [
    "digits_dataset = datasets.load_digits(as_frame=True)\n",
    "\n",
    "print(digits_dataset['DESCR'])"
   ]
  },
  {
   "cell_type": "code",
   "execution_count": 3,
   "id": "personal-mustang",
   "metadata": {},
   "outputs": [
    {
     "data": {
      "application/vnd.jupyter.widget-view+json": {
       "model_id": "7b0b4fec13ee4aa4a72e504f93a70504",
       "version_major": 2,
       "version_minor": 0
      },
      "text/plain": [
       "Canvas(toolbar=Toolbar(toolitems=[('Home', 'Reset original view', 'home', 'home'), ('Back', 'Back to previous …"
      ]
     },
     "metadata": {},
     "output_type": "display_data"
    },
    {
     "data": {
      "text/plain": [
       "<matplotlib.image.AxesImage at 0x7f85002f64c0>"
      ]
     },
     "execution_count": 3,
     "metadata": {},
     "output_type": "execute_result"
    }
   ],
   "source": [
    "# Visualizziamo un numero a caso (analogamente a quanto fatto per l'esercizio sulle eigenfaces).\n",
    "\n",
    "i_rand = np.random.choice(digits_dataset['data'].shape[0], 1, replace=False)\n",
    "\n",
    "plt.figure(figsize=(2,2))\n",
    "plt.imshow(digits_dataset['images'][int(i_rand)], cmap=plt.cm.gray)"
   ]
  },
  {
   "cell_type": "markdown",
   "id": "therapeutic-digest",
   "metadata": {},
   "source": [
    "## MDA e PCA a Confronto.\n",
    "\n",
    "Effettuiamo una riduzione di dimensionalità del dataset sia rispetto la MDA che la PCA. Visualizziamo poi i risultati per notare le differenze.\n",
    "\n",
    "**Esercizio 1:** Studia la classe MultipleFisherDiscriminantAnalysis nel modulo FisherDA.py e completa il codice del metodo \"transform\".\n",
    "\n",
    "**Esercizio 2:** Completa il codice nelle celle seguenti."
   ]
  },
  {
   "cell_type": "code",
   "execution_count": 4,
   "id": "presidential-express",
   "metadata": {},
   "outputs": [],
   "source": [
    "# Inizializzazione degli oggetti MultipleFisherDiscriminantAnalysis\n",
    "mda_3dim = ...  # Per la proiezione su 3 dimensioni\n",
    "mda_2dim = ...  # Per la proiezione su 2 dimensioni\n",
    "\n",
    "# Inizializzazione degli oggetti PrincipalComponentAnalysis\n",
    "pca_3dim = ...  # Per la proiezione su 3 dimensioni\n",
    "pca_2dim = ...  # Per la proiezione su 2 dimensioni"
   ]
  },
  {
   "cell_type": "code",
   "execution_count": 5,
   "id": "dying-transformation",
   "metadata": {},
   "outputs": [
    {
     "data": {
      "text/plain": [
       "PCA(n_components=2)"
      ]
     },
     "execution_count": 5,
     "metadata": {},
     "output_type": "execute_result"
    }
   ],
   "source": [
    "# Preparazione dataset per i metodi \"fit\" di mda_1dim, mda_2dim, pca_1dim, pca_2dim.\n",
    "X = ...\n",
    "y = ...\n",
    "\n",
    "# \"Fit\" degli oggetti sopra inizializzati\n",
    "..."
   ]
  },
  {
   "cell_type": "code",
   "execution_count": 6,
   "id": "minute-dressing",
   "metadata": {},
   "outputs": [],
   "source": [
    "# Trasformazione del dataset X rispetto alle proiezioni eseguite da mda_1dim, mda_2dim, pca_1dim, pca_2dim.\n",
    "# ATTENZIONE! usare StandardScaler per PCA!\n",
    "\n",
    "Z3m = ...  # Trasformazione rispetto mda_3dim\n",
    "Z2m = ...  # Trasformazione rispetto mda_2dim\n",
    "\n",
    "Z3p = ...  # Trasformazione rispetto pca_3dim\n",
    "Z2p = ...  # Trasformazione rispetto pca_2dim"
   ]
  },
  {
   "cell_type": "code",
   "execution_count": 7,
   "id": "difficult-crime",
   "metadata": {},
   "outputs": [
    {
     "data": {
      "application/vnd.jupyter.widget-view+json": {
       "model_id": "4c10d65fa1e34e9997706598a165d8be",
       "version_major": 2,
       "version_minor": 0
      },
      "text/plain": [
       "Canvas(toolbar=Toolbar(toolitems=[('Home', 'Reset original view', 'home', 'home'), ('Back', 'Back to previous …"
      ]
     },
     "metadata": {},
     "output_type": "display_data"
    },
    {
     "name": "stderr",
     "output_type": "stream",
     "text": [
      "/Users/francescodellasanta/Desktop/MIA2021/miaenv/lib/python3.8/site-packages/numpy/core/_asarray.py:171: ComplexWarning: Casting complex values to real discards the imaginary part\n",
      "  return array(a, dtype, copy=False, order=order, subok=True)\n"
     ]
    },
    {
     "data": {
      "text/plain": [
       "Text(0.5, 1.0, 'PCA')"
      ]
     },
     "execution_count": 7,
     "metadata": {},
     "output_type": "execute_result"
    }
   ],
   "source": [
    "# Plot a confronto\n",
    "\n",
    "class_colors = [plt.cm.tab10.colors[c] for c in y]\n",
    "\n",
    "# Plot per proiezione in R^2\n",
    "fig2, axs2 = plt.subplots(1, 2, figsize=(8, 3))\n",
    "axs2[0].scatter(..., ..., c=class_colors, alpha=0.15)\n",
    "axs2[0].set_title('MDA')\n",
    "axs2[1].scatter(..., ..., c=class_colors, alpha=0.15)\n",
    "axs2[1].set_title('PCA')"
   ]
  },
  {
   "cell_type": "code",
   "execution_count": 8,
   "id": "crucial-morrison",
   "metadata": {},
   "outputs": [
    {
     "data": {
      "application/vnd.jupyter.widget-view+json": {
       "model_id": "5700d9bc87ce4ac68bbdd030167fea9e",
       "version_major": 2,
       "version_minor": 0
      },
      "text/plain": [
       "Canvas(toolbar=Toolbar(toolitems=[('Home', 'Reset original view', 'home', 'home'), ('Back', 'Back to previous …"
      ]
     },
     "metadata": {},
     "output_type": "display_data"
    },
    {
     "name": "stderr",
     "output_type": "stream",
     "text": [
      "/Users/francescodellasanta/Desktop/MIA2021/miaenv/lib/python3.8/site-packages/numpy/core/_asarray.py:102: ComplexWarning: Casting complex values to real discards the imaginary part\n",
      "  return array(a, dtype, copy=False, order=order)\n"
     ]
    },
    {
     "data": {
      "application/vnd.jupyter.widget-view+json": {
       "model_id": "bf4b734e06d241a995ba2bf112c7eb38",
       "version_major": 2,
       "version_minor": 0
      },
      "text/plain": [
       "Canvas(toolbar=Toolbar(toolitems=[('Home', 'Reset original view', 'home', 'home'), ('Back', 'Back to previous …"
      ]
     },
     "metadata": {},
     "output_type": "display_data"
    },
    {
     "data": {
      "text/plain": [
       "Text(0.5, 0.92, 'PCA')"
      ]
     },
     "execution_count": 8,
     "metadata": {},
     "output_type": "execute_result"
    }
   ],
   "source": [
    "# Plot a confronto\n",
    "\n",
    "# Plot per proiezione in R^3\n",
    "\n",
    "fig_Z3m = plt.figure(figsize=(10, 8))\n",
    "ax_Z3m = fig_Z3m.add_subplot(111, projection='3d')\n",
    "ax_Z3m.scatter(Z3m[:, 0], Z3m[:, 1], Z3m[:, 2], c=class_colors, alpha=0.15)\n",
    "plt.title('MDA')\n",
    "\n",
    "fig_Z3p = plt.figure(figsize=(10, 8))\n",
    "ax_Z3p = fig_Z3p.add_subplot(111, projection='3d')\n",
    "ax_Z3p.scatter(Z3p[:, 0], Z3p[:, 1], Z3p[:, 2], c=class_colors, alpha=0.15)\n",
    "plt.title('PCA')\n"
   ]
  },
  {
   "cell_type": "code",
   "execution_count": null,
   "id": "multiple-specialist",
   "metadata": {},
   "outputs": [],
   "source": []
  }
 ],
 "metadata": {
  "kernelspec": {
   "display_name": "Python 3",
   "language": "python",
   "name": "python3"
  },
  "language_info": {
   "codemirror_mode": {
    "name": "ipython",
    "version": 3
   },
   "file_extension": ".py",
   "mimetype": "text/x-python",
   "name": "python",
   "nbconvert_exporter": "python",
   "pygments_lexer": "ipython3",
   "version": "3.8.6"
  }
 },
 "nbformat": 4,
 "nbformat_minor": 5
}
